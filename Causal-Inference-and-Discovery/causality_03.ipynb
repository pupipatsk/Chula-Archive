{
  "cells": [
    {
      "cell_type": "markdown",
      "metadata": {},
      "source": [
        "$$6532142421\\ Pupipat\\ Singkhorn$$"
      ]
    },
    {
      "cell_type": "markdown",
      "metadata": {},
      "source": [
        "Conclusion for every questions (detail are provided below)."
      ]
    },
    {
      "cell_type": "markdown",
      "metadata": {},
      "source": [
        "- $Q1$\n",
        "\n",
        "QUESTION 1: Using PATH method, what is the expected causal effect of X on Y?\n",
        "\n",
        "    Answer-Q1: -0.42\n",
        "\n",
        "Causal path: X -> Z -> Y\n",
        "\n",
        "Total effect of X -> Y = Effect of X -> Z * Effect of Z -> Y \n",
        "\n",
        "= (-0.6) * (0.7) = -0.42"
      ]
    },
    {
      "cell_type": "markdown",
      "metadata": {},
      "source": [
        "- $Q2$\n",
        "\n",
        "QUESTION 2: What can you identify from this result in combination with the graph above\n",
        "    \n",
        "    Answer: \n",
        "\n",
        "$equation: Y = 0.6589Z + 0.1159X + 0.4421$\n",
        "\n",
        "both X and Z have a statistically significant(p-value < 0.001(lookup-table t-dist)) impact on Y, \n",
        "but the estimated effect of X (=**0.1159**) is biased due to confoundin(U) and conditioning on the mediator Z.\n",
        "\n",
        "From the causal graph, X affects Y only through Z, and using the Path Method (Q1), the true causal effect of X on Y = **-0.42**.\n",
        "\n",
        "The discrepancy arises because OLS fails to account for the unobserved confounder U, which influences both X and Y, leading to an incorrect estimation of the direct effect of X."
      ]
    },
    {
      "cell_type": "markdown",
      "metadata": {},
      "source": [
        "- $Q3$\n",
        "\n",
        "QUESTION 3: Does this match your expection in Q1?\n",
        "\n",
        "    Answer: Yes\n",
        "\n",
        "the estimated causal effect (-0.42) using the DoWhy frontdoor criterion with two-stage regression closely matches the expected causal effect (-0.42) calculated using the Path Method in Q1.\n",
        "\n",
        "This confirms that the frontdoor adjustment method correctly accounts for the mediation effect of Z while handling the confounding from U.\n",
        "\n",
        "The result validates that our previous theoretical expectation aligns with the causal estimation performed using DoWhy, reinforcing that the true causal effect of X on Y is indeed **-0.42**."
      ]
    },
    {
      "cell_type": "markdown",
      "metadata": {},
      "source": [
        "- $Q4$\n",
        "\n",
        "QUESTION 4: How are the difference between OLS No Backdoor, OLS Backdoor, and DoWhy Backdoor\n",
        "\n",
        "    Answer:\n",
        "\n",
        "OLS Backdoor and DoWhys Backdoor method produce similar results ($\\beta_X = -0.3947$), correcting for confounding and aligning with theoretical expectations.\n",
        "\n",
        "OLS No Backdoor control underestimates ($\\beta_X = -0.3322$) the causal effect because it ignores confounding (only  X  as a predictor of  Y without adjusting for any confounders)."
      ]
    },
    {
      "cell_type": "code",
      "execution_count": null,
      "metadata": {
        "colab": {
          "base_uri": "https://localhost:8080/"
        },
        "id": "sXjOeggof_qD",
        "outputId": "339fe0b7-962d-4396-e197-445c0dacf142"
      },
      "outputs": [],
      "source": [
        "# !pip install dowhy econml"
      ]
    },
    {
      "cell_type": "code",
      "execution_count": 1,
      "metadata": {
        "id": "E1hYZtz-iZFc"
      },
      "outputs": [],
      "source": [
        "import warnings\n",
        "warnings.simplefilter(action='ignore', category=FutureWarning)\n",
        "\n",
        "import networkx as nx\n",
        "import numpy as np\n",
        "import pandas as pd\n",
        "from scipy import stats\n",
        "import matplotlib.pyplot as plt\n",
        "import statsmodels.api as sm\n",
        "\n",
        "import dowhy\n",
        "from dowhy import CausalModel"
      ]
    },
    {
      "cell_type": "code",
      "execution_count": 2,
      "metadata": {
        "id": "t91J1hZkjOXX"
      },
      "outputs": [],
      "source": [
        "SAMPLES_SIZE = 1000"
      ]
    },
    {
      "cell_type": "code",
      "execution_count": 3,
      "metadata": {
        "id": "E0mAbIebgIrR"
      },
      "outputs": [],
      "source": [
        "# A Simple Data Set\n",
        "G = nx.DiGraph()\n",
        "G.add_edges_from([\n",
        "    ('U', 'X'),\n",
        "    ('U', 'Y'),\n",
        "    ('X', 'Z'),\n",
        "    ('Z', 'Y')\n",
        "])\n",
        "\n",
        "U = stats.truncnorm(0, np.infty, scale=4).rvs(SAMPLES_SIZE)\n",
        "X = 0.7*U + stats.norm(scale=2).rvs(SAMPLES_SIZE)\n",
        "Z = -0.6*X + stats.norm(scale=2).rvs(SAMPLES_SIZE)\n",
        "Y = 0.7*Z + 0.25*U + stats.norm(scale=2).rvs(SAMPLES_SIZE)\n",
        "\n",
        "# QUESTION 1\n",
        "# Using PATH method, what is the expected causal effect of X on Y?"
      ]
    },
    {
      "cell_type": "code",
      "execution_count": null,
      "metadata": {},
      "outputs": [
        {
          "data": {
            "image/png": "[encoded data removed]",
            "text/plain": [
              "<Figure size 500x500 with 1 Axes>"
            ]
          },
          "metadata": {},
          "output_type": "display_data"
        }
      ],
      "source": [
        "# TODO: plot\n",
        "plt.figure(figsize=(5, 5))\n",
        "pos = nx.spring_layout(G)\n",
        "nx.draw(G, pos, with_labels=True, node_size=3000, node_color='pink', font_size=20, font_color='black', font_weight='bold')\n",
        "plt.show()"
      ]
    },
    {
      "cell_type": "markdown",
      "metadata": {},
      "source": [
        "QUESTION 1: Using PATH method, what is the expected causal effect of X on Y?\n",
        "\n",
        "    Answer-Q1: -0.42\n",
        "\n",
        "Causal path: X -> Z -> Y\n",
        "\n",
        "Total effect of X -> Y = Effect of X -> Z * Effect of Z -> Y \n",
        "\n",
        "= (-0.6) * (0.7) = -0.42"
      ]
    },
    {
      "cell_type": "code",
      "execution_count": 5,
      "metadata": {
        "colab": {
          "base_uri": "https://localhost:8080/",
          "height": 473
        },
        "id": "xJbp9mUzj9Ty",
        "outputId": "cd38878e-4327-4b15-8a06-7438ebb392ca"
      },
      "outputs": [
        {
          "data": {
            "text/html": [
              "<table class=\"simpletable\">\n",
              "<caption>OLS Regression Results</caption>\n",
              "<tr>\n",
              "  <th>Dep. Variable:</th>            <td>y</td>        <th>  R-squared:         </th> <td>   0.379</td> \n",
              "</tr>\n",
              "<tr>\n",
              "  <th>Model:</th>                   <td>OLS</td>       <th>  Adj. R-squared:    </th> <td>   0.378</td> \n",
              "</tr>\n",
              "<tr>\n",
              "  <th>Method:</th>             <td>Least Squares</td>  <th>  F-statistic:       </th> <td>   304.7</td> \n",
              "</tr>\n",
              "<tr>\n",
              "  <th>Date:</th>             <td>Mon, 10 Feb 2025</td> <th>  Prob (F-statistic):</th> <td>5.49e-104</td>\n",
              "</tr>\n",
              "<tr>\n",
              "  <th>Time:</th>                 <td>14:22:23</td>     <th>  Log-Likelihood:    </th> <td> -2107.0</td> \n",
              "</tr>\n",
              "<tr>\n",
              "  <th>No. Observations:</th>      <td>  1000</td>      <th>  AIC:               </th> <td>   4220.</td> \n",
              "</tr>\n",
              "<tr>\n",
              "  <th>Df Residuals:</th>          <td>   997</td>      <th>  BIC:               </th> <td>   4235.</td> \n",
              "</tr>\n",
              "<tr>\n",
              "  <th>Df Model:</th>              <td>     2</td>      <th>                     </th>     <td> </td>    \n",
              "</tr>\n",
              "<tr>\n",
              "  <th>Covariance Type:</th>      <td>nonrobust</td>    <th>                     </th>     <td> </td>    \n",
              "</tr>\n",
              "</table>\n",
              "<table class=\"simpletable\">\n",
              "<tr>\n",
              "    <td></td>       <th>coef</th>     <th>std err</th>      <th>t</th>      <th>P>|t|</th>  <th>[0.025</th>    <th>0.975]</th>  \n",
              "</tr>\n",
              "<tr>\n",
              "  <th>const</th> <td>    0.5094</td> <td>    0.081</td> <td>    6.293</td> <td> 0.000</td> <td>    0.351</td> <td>    0.668</td>\n",
              "</tr>\n",
              "<tr>\n",
              "  <th>X</th>     <td>    0.1445</td> <td>    0.031</td> <td>    4.686</td> <td> 0.000</td> <td>    0.084</td> <td>    0.205</td>\n",
              "</tr>\n",
              "<tr>\n",
              "  <th>Z</th>     <td>    0.6857</td> <td>    0.032</td> <td>   21.745</td> <td> 0.000</td> <td>    0.624</td> <td>    0.748</td>\n",
              "</tr>\n",
              "</table>\n",
              "<table class=\"simpletable\">\n",
              "<tr>\n",
              "  <th>Omnibus:</th>       <td> 0.141</td> <th>  Durbin-Watson:     </th> <td>   1.902</td>\n",
              "</tr>\n",
              "<tr>\n",
              "  <th>Prob(Omnibus):</th> <td> 0.932</td> <th>  Jarque-Bera (JB):  </th> <td>   0.135</td>\n",
              "</tr>\n",
              "<tr>\n",
              "  <th>Skew:</th>          <td>-0.028</td> <th>  Prob(JB):          </th> <td>   0.935</td>\n",
              "</tr>\n",
              "<tr>\n",
              "  <th>Kurtosis:</th>      <td> 2.993</td> <th>  Cond. No.          </th> <td>    5.45</td>\n",
              "</tr>\n",
              "</table><br/><br/>Notes:<br/>[1] Standard Errors assume that the covariance matrix of the errors is correctly specified."
            ],
            "text/latex": [
              "\\begin{center}\n",
              "\\begin{tabular}{lclc}\n",
              "\\toprule\n",
              "\\textbf{Dep. Variable:}    &        y         & \\textbf{  R-squared:         } &     0.379   \\\\\n",
              "\\textbf{Model:}            &       OLS        & \\textbf{  Adj. R-squared:    } &     0.378   \\\\\n",
              "\\textbf{Method:}           &  Least Squares   & \\textbf{  F-statistic:       } &     304.7   \\\\\n",
              "\\textbf{Date:}             & Mon, 10 Feb 2025 & \\textbf{  Prob (F-statistic):} & 5.49e-104   \\\\\n",
              "\\textbf{Time:}             &     14:22:23     & \\textbf{  Log-Likelihood:    } &   -2107.0   \\\\\n",
              "\\textbf{No. Observations:} &        1000      & \\textbf{  AIC:               } &     4220.   \\\\\n",
              "\\textbf{Df Residuals:}     &         997      & \\textbf{  BIC:               } &     4235.   \\\\\n",
              "\\textbf{Df Model:}         &           2      & \\textbf{                     } &             \\\\\n",
              "\\textbf{Covariance Type:}  &    nonrobust     & \\textbf{                     } &             \\\\\n",
              "\\bottomrule\n",
              "\\end{tabular}\n",
              "\\begin{tabular}{lcccccc}\n",
              "               & \\textbf{coef} & \\textbf{std err} & \\textbf{t} & \\textbf{P$> |$t$|$} & \\textbf{[0.025} & \\textbf{0.975]}  \\\\\n",
              "\\midrule\n",
              "\\textbf{const} &       0.5094  &        0.081     &     6.293  &         0.000        &        0.351    &        0.668     \\\\\n",
              "\\textbf{X}     &       0.1445  &        0.031     &     4.686  &         0.000        &        0.084    &        0.205     \\\\\n",
              "\\textbf{Z}     &       0.6857  &        0.032     &    21.745  &         0.000        &        0.624    &        0.748     \\\\\n",
              "\\bottomrule\n",
              "\\end{tabular}\n",
              "\\begin{tabular}{lclc}\n",
              "\\textbf{Omnibus:}       &  0.141 & \\textbf{  Durbin-Watson:     } &    1.902  \\\\\n",
              "\\textbf{Prob(Omnibus):} &  0.932 & \\textbf{  Jarque-Bera (JB):  } &    0.135  \\\\\n",
              "\\textbf{Skew:}          & -0.028 & \\textbf{  Prob(JB):          } &    0.935  \\\\\n",
              "\\textbf{Kurtosis:}      &  2.993 & \\textbf{  Cond. No.          } &     5.45  \\\\\n",
              "\\bottomrule\n",
              "\\end{tabular}\n",
              "%\\caption{OLS Regression Results}\n",
              "\\end{center}\n",
              "\n",
              "Notes: \\newline\n",
              " [1] Standard Errors assume that the covariance matrix of the errors is correctly specified."
            ],
            "text/plain": [
              "<class 'statsmodels.iolib.summary.Summary'>\n",
              "\"\"\"\n",
              "                            OLS Regression Results                            \n",
              "==============================================================================\n",
              "Dep. Variable:                      y   R-squared:                       0.379\n",
              "Model:                            OLS   Adj. R-squared:                  0.378\n",
              "Method:                 Least Squares   F-statistic:                     304.7\n",
              "Date:                Mon, 10 Feb 2025   Prob (F-statistic):          5.49e-104\n",
              "Time:                        14:22:23   Log-Likelihood:                -2107.0\n",
              "No. Observations:                1000   AIC:                             4220.\n",
              "Df Residuals:                     997   BIC:                             4235.\n",
              "Df Model:                           2                                         \n",
              "Covariance Type:            nonrobust                                         \n",
              "==============================================================================\n",
              "                 coef    std err          t      P>|t|      [0.025      0.975]\n",
              "------------------------------------------------------------------------------\n",
              "const          0.5094      0.081      6.293      0.000       0.351       0.668\n",
              "X              0.1445      0.031      4.686      0.000       0.084       0.205\n",
              "Z              0.6857      0.032     21.745      0.000       0.624       0.748\n",
              "==============================================================================\n",
              "Omnibus:                        0.141   Durbin-Watson:                   1.902\n",
              "Prob(Omnibus):                  0.932   Jarque-Bera (JB):                0.135\n",
              "Skew:                          -0.028   Prob(JB):                        0.935\n",
              "Kurtosis:                       2.993   Cond. No.                         5.45\n",
              "==============================================================================\n",
              "\n",
              "Notes:\n",
              "[1] Standard Errors assume that the covariance matrix of the errors is correctly specified.\n",
              "\"\"\""
            ]
          },
          "execution_count": 5,
          "metadata": {},
          "output_type": "execute_result"
        }
      ],
      "source": [
        "# Try regular OLS\n",
        "data = pd.DataFrame({'X': X, 'Z': Z})\n",
        "data = sm.add_constant(data, prepend=True)\n",
        "model = sm.OLS(Y, data) # Ordinary Linear Regression\n",
        "results = model.fit()\n",
        "results.summary()\n",
        "\n",
        "# QUESTION 2\n",
        "# What can you identify from this result in combination with the graph above"
      ]
    },
    {
      "cell_type": "markdown",
      "metadata": {},
      "source": [
        "QUESTION 2: What can you identify from this result in combination with the graph above\n",
        "    \n",
        "    Answer: \n",
        "\n",
        "$equation: Y = 0.6589Z + 0.1159X + 0.4421$\n",
        "\n",
        "both X and Z have a statistically significant(p-value < 0.001(lookup-table t-dist)) impact on Y, \n",
        "but the estimated effect of X (=**0.1159**) is biased due to confoundin(U) and conditioning on the mediator Z.\n",
        "\n",
        "From the causal graph, X affects Y only through Z, and using the Path Method (Q1), the true causal effect of X on Y = **-0.42**.\n",
        "\n",
        "The discrepancy arises because OLS fails to account for the unobserved confounder U, which influences both X and Y, leading to an incorrect estimation of the direct effect of X."
      ]
    },
    {
      "cell_type": "code",
      "execution_count": 6,
      "metadata": {
        "colab": {
          "base_uri": "https://localhost:8080/"
        },
        "id": "hMq9PnbmkgzH",
        "outputId": "e0090689-91f0-475c-eac5-9c76bb6a0cda"
      },
      "outputs": [
        {
          "name": "stderr",
          "output_type": "stream",
          "text": [
            "/Users/pupipatsingkhorn/miniconda3/envs/datascience/lib/python3.11/site-packages/dowhy/causal_model.py:583: UserWarning: 1 variables are assumed unobserved because they are not in the dataset. Configure the logging level to `logging.WARNING` or higher for additional details.\n",
            "  warnings.warn(\n"
          ]
        }
      ],
      "source": [
        "# Use DoWhy Model\n",
        "model = CausalModel(\n",
        "    data=pd.DataFrame({'X': X, 'Y': Y, 'Z': Z}),\n",
        "    treatment='X',\n",
        "    outcome='Y',\n",
        "    graph=\"\\n\".join(nx.generate_gml(G))\n",
        ")"
      ]
    },
    {
      "cell_type": "code",
      "execution_count": 7,
      "metadata": {
        "colab": {
          "base_uri": "https://localhost:8080/",
          "height": 499
        },
        "id": "ABuBs05cmpiv",
        "outputId": "27a72d68-64c7-4746-9272-0bfc4fb4086f"
      },
      "outputs": [
        {
          "data": {
            "image/png": "[encoded data removed]",
            "text/plain": [
              "<Figure size 800x600 with 1 Axes>"
            ]
          },
          "metadata": {},
          "output_type": "display_data"
        }
      ],
      "source": [
        "model.view_model()"
      ]
    },
    {
      "cell_type": "code",
      "execution_count": 8,
      "metadata": {
        "colab": {
          "base_uri": "https://localhost:8080/"
        },
        "id": "2NrQYCF8nmTm",
        "outputId": "1d6c7323-4350-4bb4-a153-5c1af50547d5"
      },
      "outputs": [
        {
          "name": "stdout",
          "output_type": "stream",
          "text": [
            "Estimand type: EstimandType.NONPARAMETRIC_ATE\n",
            "\n",
            "### Estimand : 1\n",
            "Estimand name: backdoor\n",
            "No such variable(s) found!\n",
            "\n",
            "### Estimand : 2\n",
            "Estimand name: iv\n",
            "No such variable(s) found!\n",
            "\n",
            "### Estimand : 3\n",
            "Estimand name: frontdoor\n",
            "Estimand expression:\n",
            " ⎡ d       d       ⎤\n",
            "E⎢────(Y)⋅────([Z])⎥\n",
            " ⎣d[Z]    d[X]     ⎦\n",
            "Estimand assumption 1, Full-mediation: Z intercepts (blocks) all directed paths from X to Y.\n",
            "Estimand assumption 2, First-stage-unconfoundedness: If U→{X} and U→{Z} then P(Z|X,U) = P(Z|X)\n",
            "Estimand assumption 3, Second-stage-unconfoundedness: If U→{Z} and U→Y then P(Y|Z, X, U) = P(Y|Z, X)\n",
            "\n"
          ]
        }
      ],
      "source": [
        "estimand = model.identify_effect()\n",
        "print(estimand)"
      ]
    },
    {
      "cell_type": "code",
      "execution_count": 9,
      "metadata": {
        "colab": {
          "base_uri": "https://localhost:8080/"
        },
        "id": "1MVyPG5OnoqQ",
        "outputId": "c7d9351f-4cfc-4b74-b957-da733a3c1d46"
      },
      "outputs": [
        {
          "name": "stdout",
          "output_type": "stream",
          "text": [
            "Estimate of causal effect (linear regression): -0.42377304720809506\n"
          ]
        }
      ],
      "source": [
        "estimate = model.estimate_effect(\n",
        "    identified_estimand=estimand,\n",
        "    method_name='frontdoor.two_stage_regression')\n",
        "\n",
        "print(f'Estimate of causal effect (linear regression): {estimate.value}')\n",
        "\n",
        "# Question 3: Does this match your expection in Q1?"
      ]
    },
    {
      "cell_type": "markdown",
      "metadata": {},
      "source": [
        "QUESTION 3: Does this match your expection in Q1?\n",
        "\n",
        "    Answer: Yes\n",
        "\n",
        "the estimated causal effect (-0.42) using the DoWhy frontdoor criterion with two-stage regression closely matches the expected causal effect (-0.42) calculated using the Path Method in Q1.\n",
        "\n",
        "This confirms that the frontdoor adjustment method correctly accounts for the mediation effect of Z while handling the confounding from U.\n",
        "\n",
        "The result validates that our previous theoretical expectation aligns with the causal estimation performed using DoWhy, reinforcing that the true causal effect of X on Y is indeed **-0.42**."
      ]
    },
    {
      "cell_type": "code",
      "execution_count": 10,
      "metadata": {
        "id": "xhk1ThbSnwxe"
      },
      "outputs": [],
      "source": [
        "refute_subset = model.refute_estimate(\n",
        "    estimand=estimand,\n",
        "    estimate=estimate,\n",
        "    method_name=\"data_subset_refuter\",\n",
        "    subset_fraction=0.4)"
      ]
    },
    {
      "cell_type": "code",
      "execution_count": 11,
      "metadata": {
        "colab": {
          "base_uri": "https://localhost:8080/"
        },
        "id": "PWSQryWKoPRk",
        "outputId": "c0fab5e7-82b9-43b6-984c-ceeb605afeac"
      },
      "outputs": [
        {
          "name": "stdout",
          "output_type": "stream",
          "text": [
            "Refute: Use a subset of data\n",
            "Estimated effect:-0.42377304720809506\n",
            "New effect:-0.4232292075982626\n",
            "p value:0.9199999999999999\n",
            "\n"
          ]
        }
      ],
      "source": [
        "print(refute_subset)"
      ]
    },
    {
      "cell_type": "code",
      "execution_count": 12,
      "metadata": {
        "id": "5hDb3-1soeC_"
      },
      "outputs": [],
      "source": [
        "refute_placebo = model.refute_estimate(\n",
        "    estimand=estimand,\n",
        "    estimate=estimate,\n",
        "    method_name=\"placebo_treatment_refuter\")"
      ]
    },
    {
      "cell_type": "code",
      "execution_count": 13,
      "metadata": {
        "colab": {
          "base_uri": "https://localhost:8080/"
        },
        "id": "kNJwUI_LoxR3",
        "outputId": "04c450ed-5583-48b9-b5e0-7b7c79df543a"
      },
      "outputs": [
        {
          "name": "stdout",
          "output_type": "stream",
          "text": [
            "Refute: Use a Placebo Treatment\n",
            "Estimated effect:-0.42377304720809506\n",
            "New effect:-0.423773047208095\n",
            "p value:0.0\n",
            "\n"
          ]
        }
      ],
      "source": [
        "print(refute_placebo)"
      ]
    },
    {
      "cell_type": "code",
      "execution_count": 14,
      "metadata": {
        "id": "XneJvN0Bo0kv"
      },
      "outputs": [],
      "source": [
        "# Another Data Set\n",
        "G = nx.DiGraph()\n",
        "G.add_edges_from([\n",
        "    ('U', 'X'),\n",
        "    ('U', 'Y'),\n",
        "    ('X', 'Z'),\n",
        "    ('Z', 'Y'),\n",
        "    ('I', 'X')\n",
        "])\n",
        "\n",
        "U = stats.truncnorm(0, np.infty, scale=4).rvs(SAMPLES_SIZE)\n",
        "I = stats.norm(scale=10).rvs(SAMPLES_SIZE)\n",
        "X = 0.7*U + 0.3*I + stats.norm(scale=2).rvs(SAMPLES_SIZE)\n",
        "Z = -0.6*X + stats.norm(scale=2).rvs(SAMPLES_SIZE)\n",
        "Y = 0.7*Z + 0.25*U + stats.norm(scale=2).rvs(SAMPLES_SIZE)"
      ]
    },
    {
      "cell_type": "code",
      "execution_count": 15,
      "metadata": {
        "id": "OXIJ9rjOqVoE"
      },
      "outputs": [],
      "source": [
        "# Use DoWhy Model\n",
        "model = CausalModel(\n",
        "    data=pd.DataFrame({'X': X, 'Y': Y, 'Z': Z, 'U': U, 'I': I}),\n",
        "    treatment='X',\n",
        "    outcome='Y',\n",
        "    graph=\"\\n\".join(nx.generate_gml(G))\n",
        ")"
      ]
    },
    {
      "cell_type": "code",
      "execution_count": 16,
      "metadata": {
        "colab": {
          "base_uri": "https://localhost:8080/",
          "height": 499
        },
        "id": "D4ykzwU9qcnK",
        "outputId": "f9459f86-7508-4ab4-c89d-04965d8361dc"
      },
      "outputs": [
        {
          "data": {
            "image/png": "[encoded data removed]",
            "text/plain": [
              "<Figure size 800x600 with 1 Axes>"
            ]
          },
          "metadata": {},
          "output_type": "display_data"
        }
      ],
      "source": [
        "model.view_model()"
      ]
    },
    {
      "cell_type": "code",
      "execution_count": 17,
      "metadata": {
        "colab": {
          "base_uri": "https://localhost:8080/"
        },
        "id": "Umg0lqXLqeYV",
        "outputId": "bd48f439-58c8-4c89-9024-5d8b5741f5b0"
      },
      "outputs": [
        {
          "name": "stdout",
          "output_type": "stream",
          "text": [
            "Estimand type: EstimandType.NONPARAMETRIC_ATE\n",
            "\n",
            "### Estimand : 1\n",
            "Estimand name: backdoor\n",
            "Estimand expression:\n",
            " d          \n",
            "────(E[Y|U])\n",
            "d[X]        \n",
            "Estimand assumption 1, Unconfoundedness: If U→{X} and U→Y then P(Y|X,U,U) = P(Y|X,U)\n",
            "\n",
            "### Estimand : 2\n",
            "Estimand name: iv\n",
            "Estimand expression:\n",
            " ⎡                   -1⎤\n",
            " ⎢ d      ⎛ d       ⎞  ⎥\n",
            "E⎢────(Y)⋅⎜────([X])⎟  ⎥\n",
            " ⎣d[I]    ⎝d[I]     ⎠  ⎦\n",
            "Estimand assumption 1, As-if-random: If U→→Y then ¬(U →→{I})\n",
            "Estimand assumption 2, Exclusion: If we remove {I}→{X}, then ¬({I}→Y)\n",
            "\n",
            "### Estimand : 3\n",
            "Estimand name: frontdoor\n",
            "Estimand expression:\n",
            " ⎡ d       d       ⎤\n",
            "E⎢────(Y)⋅────([Z])⎥\n",
            " ⎣d[Z]    d[X]     ⎦\n",
            "Estimand assumption 1, Full-mediation: Z intercepts (blocks) all directed paths from X to Y.\n",
            "Estimand assumption 2, First-stage-unconfoundedness: If U→{X} and U→{Z} then P(Z|X,U) = P(Z|X)\n",
            "Estimand assumption 3, Second-stage-unconfoundedness: If U→{Z} and U→Y then P(Y|Z, X, U) = P(Y|Z, X)\n",
            "\n"
          ]
        }
      ],
      "source": [
        "estimand = model.identify_effect()\n",
        "print(estimand)"
      ]
    },
    {
      "cell_type": "code",
      "execution_count": 18,
      "metadata": {
        "colab": {
          "base_uri": "https://localhost:8080/",
          "height": 451
        },
        "id": "v76qNHRqvOvA",
        "outputId": "3d8859d2-92af-4de6-c960-5680de8f260a"
      },
      "outputs": [
        {
          "data": {
            "text/html": [
              "<table class=\"simpletable\">\n",
              "<caption>OLS Regression Results</caption>\n",
              "<tr>\n",
              "  <th>Dep. Variable:</th>            <td>y</td>        <th>  R-squared:         </th> <td>   0.232</td>\n",
              "</tr>\n",
              "<tr>\n",
              "  <th>Model:</th>                   <td>OLS</td>       <th>  Adj. R-squared:    </th> <td>   0.231</td>\n",
              "</tr>\n",
              "<tr>\n",
              "  <th>Method:</th>             <td>Least Squares</td>  <th>  F-statistic:       </th> <td>   301.3</td>\n",
              "</tr>\n",
              "<tr>\n",
              "  <th>Date:</th>             <td>Mon, 10 Feb 2025</td> <th>  Prob (F-statistic):</th> <td>3.49e-59</td>\n",
              "</tr>\n",
              "<tr>\n",
              "  <th>Time:</th>                 <td>14:25:57</td>     <th>  Log-Likelihood:    </th> <td> -2321.2</td>\n",
              "</tr>\n",
              "<tr>\n",
              "  <th>No. Observations:</th>      <td>  1000</td>      <th>  AIC:               </th> <td>   4646.</td>\n",
              "</tr>\n",
              "<tr>\n",
              "  <th>Df Residuals:</th>          <td>   998</td>      <th>  BIC:               </th> <td>   4656.</td>\n",
              "</tr>\n",
              "<tr>\n",
              "  <th>Df Model:</th>              <td>     1</td>      <th>                     </th>     <td> </td>   \n",
              "</tr>\n",
              "<tr>\n",
              "  <th>Covariance Type:</th>      <td>nonrobust</td>    <th>                     </th>     <td> </td>   \n",
              "</tr>\n",
              "</table>\n",
              "<table class=\"simpletable\">\n",
              "<tr>\n",
              "    <td></td>       <th>coef</th>     <th>std err</th>      <th>t</th>      <th>P>|t|</th>  <th>[0.025</th>    <th>0.975]</th>  \n",
              "</tr>\n",
              "<tr>\n",
              "  <th>const</th> <td>    0.7676</td> <td>    0.087</td> <td>    8.778</td> <td> 0.000</td> <td>    0.596</td> <td>    0.939</td>\n",
              "</tr>\n",
              "<tr>\n",
              "  <th>X</th>     <td>   -0.3322</td> <td>    0.019</td> <td>  -17.358</td> <td> 0.000</td> <td>   -0.370</td> <td>   -0.295</td>\n",
              "</tr>\n",
              "</table>\n",
              "<table class=\"simpletable\">\n",
              "<tr>\n",
              "  <th>Omnibus:</th>       <td> 1.135</td> <th>  Durbin-Watson:     </th> <td>   2.097</td>\n",
              "</tr>\n",
              "<tr>\n",
              "  <th>Prob(Omnibus):</th> <td> 0.567</td> <th>  Jarque-Bera (JB):  </th> <td>   1.017</td>\n",
              "</tr>\n",
              "<tr>\n",
              "  <th>Skew:</th>          <td>-0.024</td> <th>  Prob(JB):          </th> <td>   0.601</td>\n",
              "</tr>\n",
              "<tr>\n",
              "  <th>Kurtosis:</th>      <td> 3.149</td> <th>  Cond. No.          </th> <td>    5.17</td>\n",
              "</tr>\n",
              "</table><br/><br/>Notes:<br/>[1] Standard Errors assume that the covariance matrix of the errors is correctly specified."
            ],
            "text/latex": [
              "\\begin{center}\n",
              "\\begin{tabular}{lclc}\n",
              "\\toprule\n",
              "\\textbf{Dep. Variable:}    &        y         & \\textbf{  R-squared:         } &     0.232   \\\\\n",
              "\\textbf{Model:}            &       OLS        & \\textbf{  Adj. R-squared:    } &     0.231   \\\\\n",
              "\\textbf{Method:}           &  Least Squares   & \\textbf{  F-statistic:       } &     301.3   \\\\\n",
              "\\textbf{Date:}             & Mon, 10 Feb 2025 & \\textbf{  Prob (F-statistic):} &  3.49e-59   \\\\\n",
              "\\textbf{Time:}             &     14:25:57     & \\textbf{  Log-Likelihood:    } &   -2321.2   \\\\\n",
              "\\textbf{No. Observations:} &        1000      & \\textbf{  AIC:               } &     4646.   \\\\\n",
              "\\textbf{Df Residuals:}     &         998      & \\textbf{  BIC:               } &     4656.   \\\\\n",
              "\\textbf{Df Model:}         &           1      & \\textbf{                     } &             \\\\\n",
              "\\textbf{Covariance Type:}  &    nonrobust     & \\textbf{                     } &             \\\\\n",
              "\\bottomrule\n",
              "\\end{tabular}\n",
              "\\begin{tabular}{lcccccc}\n",
              "               & \\textbf{coef} & \\textbf{std err} & \\textbf{t} & \\textbf{P$> |$t$|$} & \\textbf{[0.025} & \\textbf{0.975]}  \\\\\n",
              "\\midrule\n",
              "\\textbf{const} &       0.7676  &        0.087     &     8.778  &         0.000        &        0.596    &        0.939     \\\\\n",
              "\\textbf{X}     &      -0.3322  &        0.019     &   -17.358  &         0.000        &       -0.370    &       -0.295     \\\\\n",
              "\\bottomrule\n",
              "\\end{tabular}\n",
              "\\begin{tabular}{lclc}\n",
              "\\textbf{Omnibus:}       &  1.135 & \\textbf{  Durbin-Watson:     } &    2.097  \\\\\n",
              "\\textbf{Prob(Omnibus):} &  0.567 & \\textbf{  Jarque-Bera (JB):  } &    1.017  \\\\\n",
              "\\textbf{Skew:}          & -0.024 & \\textbf{  Prob(JB):          } &    0.601  \\\\\n",
              "\\textbf{Kurtosis:}      &  3.149 & \\textbf{  Cond. No.          } &     5.17  \\\\\n",
              "\\bottomrule\n",
              "\\end{tabular}\n",
              "%\\caption{OLS Regression Results}\n",
              "\\end{center}\n",
              "\n",
              "Notes: \\newline\n",
              " [1] Standard Errors assume that the covariance matrix of the errors is correctly specified."
            ],
            "text/plain": [
              "<class 'statsmodels.iolib.summary.Summary'>\n",
              "\"\"\"\n",
              "                            OLS Regression Results                            \n",
              "==============================================================================\n",
              "Dep. Variable:                      y   R-squared:                       0.232\n",
              "Model:                            OLS   Adj. R-squared:                  0.231\n",
              "Method:                 Least Squares   F-statistic:                     301.3\n",
              "Date:                Mon, 10 Feb 2025   Prob (F-statistic):           3.49e-59\n",
              "Time:                        14:25:57   Log-Likelihood:                -2321.2\n",
              "No. Observations:                1000   AIC:                             4646.\n",
              "Df Residuals:                     998   BIC:                             4656.\n",
              "Df Model:                           1                                         \n",
              "Covariance Type:            nonrobust                                         \n",
              "==============================================================================\n",
              "                 coef    std err          t      P>|t|      [0.025      0.975]\n",
              "------------------------------------------------------------------------------\n",
              "const          0.7676      0.087      8.778      0.000       0.596       0.939\n",
              "X             -0.3322      0.019    -17.358      0.000      -0.370      -0.295\n",
              "==============================================================================\n",
              "Omnibus:                        1.135   Durbin-Watson:                   2.097\n",
              "Prob(Omnibus):                  0.567   Jarque-Bera (JB):                1.017\n",
              "Skew:                          -0.024   Prob(JB):                        0.601\n",
              "Kurtosis:                       3.149   Cond. No.                         5.17\n",
              "==============================================================================\n",
              "\n",
              "Notes:\n",
              "[1] Standard Errors assume that the covariance matrix of the errors is correctly specified.\n",
              "\"\"\""
            ]
          },
          "execution_count": 18,
          "metadata": {},
          "output_type": "execute_result"
        }
      ],
      "source": [
        "# No backdoor\n",
        "data = pd.DataFrame({'X': X})\n",
        "data = sm.add_constant(data, prepend=True)\n",
        "model_ols_no_backdoor = sm.OLS(Y, data) # Ordinary Linear Regression\n",
        "results = model_ols_no_backdoor.fit()\n",
        "results.summary()"
      ]
    },
    {
      "cell_type": "markdown",
      "metadata": {},
      "source": [
        "$\\therefore$ OLS No Backdoor: $\\beta_X = -0.3322$"
      ]
    },
    {
      "cell_type": "code",
      "execution_count": 19,
      "metadata": {
        "colab": {
          "base_uri": "https://localhost:8080/",
          "height": 473
        },
        "id": "5TAtTb-iuxgk",
        "outputId": "e4fe38b9-1d59-464f-c5fc-9153ab83c319"
      },
      "outputs": [
        {
          "data": {
            "text/html": [
              "<table class=\"simpletable\">\n",
              "<caption>OLS Regression Results</caption>\n",
              "<tr>\n",
              "  <th>Dep. Variable:</th>            <td>y</td>        <th>  R-squared:         </th> <td>   0.273</td>\n",
              "</tr>\n",
              "<tr>\n",
              "  <th>Model:</th>                   <td>OLS</td>       <th>  Adj. R-squared:    </th> <td>   0.271</td>\n",
              "</tr>\n",
              "<tr>\n",
              "  <th>Method:</th>             <td>Least Squares</td>  <th>  F-statistic:       </th> <td>   186.8</td>\n",
              "</tr>\n",
              "<tr>\n",
              "  <th>Date:</th>             <td>Mon, 10 Feb 2025</td> <th>  Prob (F-statistic):</th> <td>1.21e-69</td>\n",
              "</tr>\n",
              "<tr>\n",
              "  <th>Time:</th>                 <td>14:25:58</td>     <th>  Log-Likelihood:    </th> <td> -2294.0</td>\n",
              "</tr>\n",
              "<tr>\n",
              "  <th>No. Observations:</th>      <td>  1000</td>      <th>  AIC:               </th> <td>   4594.</td>\n",
              "</tr>\n",
              "<tr>\n",
              "  <th>Df Residuals:</th>          <td>   997</td>      <th>  BIC:               </th> <td>   4609.</td>\n",
              "</tr>\n",
              "<tr>\n",
              "  <th>Df Model:</th>              <td>     2</td>      <th>                     </th>     <td> </td>   \n",
              "</tr>\n",
              "<tr>\n",
              "  <th>Covariance Type:</th>      <td>nonrobust</td>    <th>                     </th>     <td> </td>   \n",
              "</tr>\n",
              "</table>\n",
              "<table class=\"simpletable\">\n",
              "<tr>\n",
              "    <td></td>       <th>coef</th>     <th>std err</th>      <th>t</th>      <th>P>|t|</th>  <th>[0.025</th>    <th>0.975]</th>  \n",
              "</tr>\n",
              "<tr>\n",
              "  <th>const</th> <td>    0.0922</td> <td>    0.124</td> <td>    0.742</td> <td> 0.458</td> <td>   -0.151</td> <td>    0.336</td>\n",
              "</tr>\n",
              "<tr>\n",
              "  <th>X</th>     <td>   -0.3947</td> <td>    0.020</td> <td>  -19.325</td> <td> 0.000</td> <td>   -0.435</td> <td>   -0.355</td>\n",
              "</tr>\n",
              "<tr>\n",
              "  <th>U</th>     <td>    0.2451</td> <td>    0.033</td> <td>    7.473</td> <td> 0.000</td> <td>    0.181</td> <td>    0.309</td>\n",
              "</tr>\n",
              "</table>\n",
              "<table class=\"simpletable\">\n",
              "<tr>\n",
              "  <th>Omnibus:</th>       <td> 0.637</td> <th>  Durbin-Watson:     </th> <td>   2.090</td>\n",
              "</tr>\n",
              "<tr>\n",
              "  <th>Prob(Omnibus):</th> <td> 0.727</td> <th>  Jarque-Bera (JB):  </th> <td>   0.512</td>\n",
              "</tr>\n",
              "<tr>\n",
              "  <th>Skew:</th>          <td>-0.028</td> <th>  Prob(JB):          </th> <td>   0.774</td>\n",
              "</tr>\n",
              "<tr>\n",
              "  <th>Kurtosis:</th>      <td> 3.096</td> <th>  Cond. No.          </th> <td>    9.22</td>\n",
              "</tr>\n",
              "</table><br/><br/>Notes:<br/>[1] Standard Errors assume that the covariance matrix of the errors is correctly specified."
            ],
            "text/latex": [
              "\\begin{center}\n",
              "\\begin{tabular}{lclc}\n",
              "\\toprule\n",
              "\\textbf{Dep. Variable:}    &        y         & \\textbf{  R-squared:         } &     0.273   \\\\\n",
              "\\textbf{Model:}            &       OLS        & \\textbf{  Adj. R-squared:    } &     0.271   \\\\\n",
              "\\textbf{Method:}           &  Least Squares   & \\textbf{  F-statistic:       } &     186.8   \\\\\n",
              "\\textbf{Date:}             & Mon, 10 Feb 2025 & \\textbf{  Prob (F-statistic):} &  1.21e-69   \\\\\n",
              "\\textbf{Time:}             &     14:25:58     & \\textbf{  Log-Likelihood:    } &   -2294.0   \\\\\n",
              "\\textbf{No. Observations:} &        1000      & \\textbf{  AIC:               } &     4594.   \\\\\n",
              "\\textbf{Df Residuals:}     &         997      & \\textbf{  BIC:               } &     4609.   \\\\\n",
              "\\textbf{Df Model:}         &           2      & \\textbf{                     } &             \\\\\n",
              "\\textbf{Covariance Type:}  &    nonrobust     & \\textbf{                     } &             \\\\\n",
              "\\bottomrule\n",
              "\\end{tabular}\n",
              "\\begin{tabular}{lcccccc}\n",
              "               & \\textbf{coef} & \\textbf{std err} & \\textbf{t} & \\textbf{P$> |$t$|$} & \\textbf{[0.025} & \\textbf{0.975]}  \\\\\n",
              "\\midrule\n",
              "\\textbf{const} &       0.0922  &        0.124     &     0.742  &         0.458        &       -0.151    &        0.336     \\\\\n",
              "\\textbf{X}     &      -0.3947  &        0.020     &   -19.325  &         0.000        &       -0.435    &       -0.355     \\\\\n",
              "\\textbf{U}     &       0.2451  &        0.033     &     7.473  &         0.000        &        0.181    &        0.309     \\\\\n",
              "\\bottomrule\n",
              "\\end{tabular}\n",
              "\\begin{tabular}{lclc}\n",
              "\\textbf{Omnibus:}       &  0.637 & \\textbf{  Durbin-Watson:     } &    2.090  \\\\\n",
              "\\textbf{Prob(Omnibus):} &  0.727 & \\textbf{  Jarque-Bera (JB):  } &    0.512  \\\\\n",
              "\\textbf{Skew:}          & -0.028 & \\textbf{  Prob(JB):          } &    0.774  \\\\\n",
              "\\textbf{Kurtosis:}      &  3.096 & \\textbf{  Cond. No.          } &     9.22  \\\\\n",
              "\\bottomrule\n",
              "\\end{tabular}\n",
              "%\\caption{OLS Regression Results}\n",
              "\\end{center}\n",
              "\n",
              "Notes: \\newline\n",
              " [1] Standard Errors assume that the covariance matrix of the errors is correctly specified."
            ],
            "text/plain": [
              "<class 'statsmodels.iolib.summary.Summary'>\n",
              "\"\"\"\n",
              "                            OLS Regression Results                            \n",
              "==============================================================================\n",
              "Dep. Variable:                      y   R-squared:                       0.273\n",
              "Model:                            OLS   Adj. R-squared:                  0.271\n",
              "Method:                 Least Squares   F-statistic:                     186.8\n",
              "Date:                Mon, 10 Feb 2025   Prob (F-statistic):           1.21e-69\n",
              "Time:                        14:25:58   Log-Likelihood:                -2294.0\n",
              "No. Observations:                1000   AIC:                             4594.\n",
              "Df Residuals:                     997   BIC:                             4609.\n",
              "Df Model:                           2                                         \n",
              "Covariance Type:            nonrobust                                         \n",
              "==============================================================================\n",
              "                 coef    std err          t      P>|t|      [0.025      0.975]\n",
              "------------------------------------------------------------------------------\n",
              "const          0.0922      0.124      0.742      0.458      -0.151       0.336\n",
              "X             -0.3947      0.020    -19.325      0.000      -0.435      -0.355\n",
              "U              0.2451      0.033      7.473      0.000       0.181       0.309\n",
              "==============================================================================\n",
              "Omnibus:                        0.637   Durbin-Watson:                   2.090\n",
              "Prob(Omnibus):                  0.727   Jarque-Bera (JB):                0.512\n",
              "Skew:                          -0.028   Prob(JB):                        0.774\n",
              "Kurtosis:                       3.096   Cond. No.                         9.22\n",
              "==============================================================================\n",
              "\n",
              "Notes:\n",
              "[1] Standard Errors assume that the covariance matrix of the errors is correctly specified.\n",
              "\"\"\""
            ]
          },
          "execution_count": 19,
          "metadata": {},
          "output_type": "execute_result"
        }
      ],
      "source": [
        "# Homegrown backdoor\n",
        "data = pd.DataFrame({'X': X, 'U': U})\n",
        "data = sm.add_constant(data, prepend=True)\n",
        "model_ols_backdoor = sm.OLS(Y, data) # Ordinary Linear Regression\n",
        "results = model_ols_backdoor.fit()\n",
        "results.summary()"
      ]
    },
    {
      "cell_type": "markdown",
      "metadata": {},
      "source": [
        "$\\therefore$ OLS Backdoor: $\\beta_X = -0.3947, \\beta_U=0.2451$"
      ]
    },
    {
      "cell_type": "code",
      "execution_count": 20,
      "metadata": {
        "colab": {
          "base_uri": "https://localhost:8080/"
        },
        "id": "LuxNzTJhqk_4",
        "outputId": "cc805f97-f80c-4075-8b49-ccbc3e1d4dfc"
      },
      "outputs": [
        {
          "name": "stdout",
          "output_type": "stream",
          "text": [
            "Estimate of causal effect via backdoor (linear regression): -0.3947006164963863\n"
          ]
        }
      ],
      "source": [
        "estimate_backdoor = model.estimate_effect(\n",
        "    identified_estimand=estimand,\n",
        "    method_name='backdoor.linear_regression')\n",
        "\n",
        "print(f'Estimate of causal effect via backdoor (linear regression): {estimate_backdoor.value}')\n",
        "\n",
        "# QUESTION 4 -- How are the difference between OLS No Backdoor, OLS Backdoor, and DoWhy Backdoor"
      ]
    },
    {
      "cell_type": "markdown",
      "metadata": {},
      "source": [
        "$\\therefore$ DoWhy Backdoor: $\\beta_X = -0.3947$"
      ]
    },
    {
      "cell_type": "markdown",
      "metadata": {},
      "source": [
        "QUESTION 4: How are the difference between OLS No Backdoor, OLS Backdoor, and DoWhy Backdoor\n",
        "\n",
        "    Answer:\n",
        "\n",
        "OLS Backdoor and DoWhys Backdoor method produce similar results ($\\beta_X = -0.3947$), correcting for confounding and aligning with theoretical expectations.\n",
        "\n",
        "OLS No Backdoor control underestimates ($\\beta_X = -0.3322$) the causal effect because it ignores confounding (only  X  as a predictor of  Y without adjusting for any confounders)."
      ]
    },
    {
      "cell_type": "code",
      "execution_count": 21,
      "metadata": {
        "colab": {
          "base_uri": "https://localhost:8080/"
        },
        "id": "oK2BlbJArYD0",
        "outputId": "e4c8d5b6-36c0-4509-ff28-7afd9a556b99"
      },
      "outputs": [
        {
          "name": "stderr",
          "output_type": "stream",
          "text": [
            "/Users/pupipatsingkhorn/miniconda3/envs/datascience/lib/python3.11/site-packages/statsmodels/regression/linear_model.py:1966: RuntimeWarning: divide by zero encountered in scalar divide\n",
            "  return np.sqrt(eigvals[0]/eigvals[-1])\n",
            "/Users/pupipatsingkhorn/miniconda3/envs/datascience/lib/python3.11/site-packages/statsmodels/regression/linear_model.py:1966: RuntimeWarning: divide by zero encountered in scalar divide\n",
            "  return np.sqrt(eigvals[0]/eigvals[-1])\n",
            "/Users/pupipatsingkhorn/miniconda3/envs/datascience/lib/python3.11/site-packages/statsmodels/regression/linear_model.py:1966: RuntimeWarning: divide by zero encountered in scalar divide\n",
            "  return np.sqrt(eigvals[0]/eigvals[-1])\n",
            "/Users/pupipatsingkhorn/miniconda3/envs/datascience/lib/python3.11/site-packages/statsmodels/regression/linear_model.py:1966: RuntimeWarning: divide by zero encountered in scalar divide\n",
            "  return np.sqrt(eigvals[0]/eigvals[-1])\n",
            "/Users/pupipatsingkhorn/miniconda3/envs/datascience/lib/python3.11/site-packages/statsmodels/regression/linear_model.py:1966: RuntimeWarning: divide by zero encountered in scalar divide\n",
            "  return np.sqrt(eigvals[0]/eigvals[-1])\n",
            "/Users/pupipatsingkhorn/miniconda3/envs/datascience/lib/python3.11/site-packages/statsmodels/regression/linear_model.py:1966: RuntimeWarning: divide by zero encountered in scalar divide\n",
            "  return np.sqrt(eigvals[0]/eigvals[-1])\n",
            "/Users/pupipatsingkhorn/miniconda3/envs/datascience/lib/python3.11/site-packages/statsmodels/regression/linear_model.py:1966: RuntimeWarning: divide by zero encountered in scalar divide\n",
            "  return np.sqrt(eigvals[0]/eigvals[-1])\n",
            "/Users/pupipatsingkhorn/miniconda3/envs/datascience/lib/python3.11/site-packages/statsmodels/regression/linear_model.py:1966: RuntimeWarning: divide by zero encountered in scalar divide\n",
            "  return np.sqrt(eigvals[0]/eigvals[-1])\n",
            "/Users/pupipatsingkhorn/miniconda3/envs/datascience/lib/python3.11/site-packages/statsmodels/regression/linear_model.py:1966: RuntimeWarning: divide by zero encountered in scalar divide\n",
            "  return np.sqrt(eigvals[0]/eigvals[-1])\n",
            "/Users/pupipatsingkhorn/miniconda3/envs/datascience/lib/python3.11/site-packages/statsmodels/regression/linear_model.py:1966: RuntimeWarning: divide by zero encountered in scalar divide\n",
            "  return np.sqrt(eigvals[0]/eigvals[-1])\n",
            "/Users/pupipatsingkhorn/miniconda3/envs/datascience/lib/python3.11/site-packages/statsmodels/regression/linear_model.py:1966: RuntimeWarning: divide by zero encountered in scalar divide\n",
            "  return np.sqrt(eigvals[0]/eigvals[-1])\n",
            "/Users/pupipatsingkhorn/miniconda3/envs/datascience/lib/python3.11/site-packages/statsmodels/regression/linear_model.py:1966: RuntimeWarning: divide by zero encountered in scalar divide\n",
            "  return np.sqrt(eigvals[0]/eigvals[-1])\n",
            "/Users/pupipatsingkhorn/miniconda3/envs/datascience/lib/python3.11/site-packages/statsmodels/regression/linear_model.py:1966: RuntimeWarning: divide by zero encountered in scalar divide\n",
            "  return np.sqrt(eigvals[0]/eigvals[-1])\n",
            "/Users/pupipatsingkhorn/miniconda3/envs/datascience/lib/python3.11/site-packages/statsmodels/regression/linear_model.py:1966: RuntimeWarning: divide by zero encountered in scalar divide\n",
            "  return np.sqrt(eigvals[0]/eigvals[-1])\n",
            "/Users/pupipatsingkhorn/miniconda3/envs/datascience/lib/python3.11/site-packages/statsmodels/regression/linear_model.py:1966: RuntimeWarning: divide by zero encountered in scalar divide\n",
            "  return np.sqrt(eigvals[0]/eigvals[-1])\n",
            "/Users/pupipatsingkhorn/miniconda3/envs/datascience/lib/python3.11/site-packages/statsmodels/regression/linear_model.py:1966: RuntimeWarning: divide by zero encountered in scalar divide\n",
            "  return np.sqrt(eigvals[0]/eigvals[-1])\n",
            "/Users/pupipatsingkhorn/miniconda3/envs/datascience/lib/python3.11/site-packages/statsmodels/regression/linear_model.py:1966: RuntimeWarning: divide by zero encountered in scalar divide\n",
            "  return np.sqrt(eigvals[0]/eigvals[-1])\n",
            "/Users/pupipatsingkhorn/miniconda3/envs/datascience/lib/python3.11/site-packages/statsmodels/regression/linear_model.py:1966: RuntimeWarning: divide by zero encountered in scalar divide\n",
            "  return np.sqrt(eigvals[0]/eigvals[-1])\n",
            "/Users/pupipatsingkhorn/miniconda3/envs/datascience/lib/python3.11/site-packages/statsmodels/regression/linear_model.py:1966: RuntimeWarning: divide by zero encountered in scalar divide\n",
            "  return np.sqrt(eigvals[0]/eigvals[-1])\n",
            "/Users/pupipatsingkhorn/miniconda3/envs/datascience/lib/python3.11/site-packages/statsmodels/regression/linear_model.py:1966: RuntimeWarning: divide by zero encountered in scalar divide\n",
            "  return np.sqrt(eigvals[0]/eigvals[-1])\n",
            "/Users/pupipatsingkhorn/miniconda3/envs/datascience/lib/python3.11/site-packages/statsmodels/regression/linear_model.py:1966: RuntimeWarning: divide by zero encountered in scalar divide\n",
            "  return np.sqrt(eigvals[0]/eigvals[-1])\n",
            "/Users/pupipatsingkhorn/miniconda3/envs/datascience/lib/python3.11/site-packages/statsmodels/regression/linear_model.py:1966: RuntimeWarning: divide by zero encountered in scalar divide\n",
            "  return np.sqrt(eigvals[0]/eigvals[-1])\n",
            "/Users/pupipatsingkhorn/miniconda3/envs/datascience/lib/python3.11/site-packages/statsmodels/regression/linear_model.py:1966: RuntimeWarning: divide by zero encountered in scalar divide\n",
            "  return np.sqrt(eigvals[0]/eigvals[-1])\n",
            "/Users/pupipatsingkhorn/miniconda3/envs/datascience/lib/python3.11/site-packages/statsmodels/regression/linear_model.py:1966: RuntimeWarning: divide by zero encountered in scalar divide\n",
            "  return np.sqrt(eigvals[0]/eigvals[-1])\n",
            "/Users/pupipatsingkhorn/miniconda3/envs/datascience/lib/python3.11/site-packages/statsmodels/regression/linear_model.py:1966: RuntimeWarning: divide by zero encountered in scalar divide\n",
            "  return np.sqrt(eigvals[0]/eigvals[-1])\n",
            "/Users/pupipatsingkhorn/miniconda3/envs/datascience/lib/python3.11/site-packages/statsmodels/regression/linear_model.py:1966: RuntimeWarning: divide by zero encountered in scalar divide\n",
            "  return np.sqrt(eigvals[0]/eigvals[-1])\n",
            "/Users/pupipatsingkhorn/miniconda3/envs/datascience/lib/python3.11/site-packages/statsmodels/regression/linear_model.py:1966: RuntimeWarning: divide by zero encountered in scalar divide\n",
            "  return np.sqrt(eigvals[0]/eigvals[-1])\n",
            "/Users/pupipatsingkhorn/miniconda3/envs/datascience/lib/python3.11/site-packages/statsmodels/regression/linear_model.py:1966: RuntimeWarning: divide by zero encountered in scalar divide\n",
            "  return np.sqrt(eigvals[0]/eigvals[-1])\n",
            "/Users/pupipatsingkhorn/miniconda3/envs/datascience/lib/python3.11/site-packages/statsmodels/regression/linear_model.py:1966: RuntimeWarning: divide by zero encountered in scalar divide\n",
            "  return np.sqrt(eigvals[0]/eigvals[-1])\n",
            "/Users/pupipatsingkhorn/miniconda3/envs/datascience/lib/python3.11/site-packages/statsmodels/regression/linear_model.py:1966: RuntimeWarning: divide by zero encountered in scalar divide\n",
            "  return np.sqrt(eigvals[0]/eigvals[-1])\n",
            "/Users/pupipatsingkhorn/miniconda3/envs/datascience/lib/python3.11/site-packages/statsmodels/regression/linear_model.py:1966: RuntimeWarning: divide by zero encountered in scalar divide\n",
            "  return np.sqrt(eigvals[0]/eigvals[-1])\n",
            "/Users/pupipatsingkhorn/miniconda3/envs/datascience/lib/python3.11/site-packages/statsmodels/regression/linear_model.py:1966: RuntimeWarning: divide by zero encountered in scalar divide\n",
            "  return np.sqrt(eigvals[0]/eigvals[-1])\n",
            "/Users/pupipatsingkhorn/miniconda3/envs/datascience/lib/python3.11/site-packages/statsmodels/regression/linear_model.py:1966: RuntimeWarning: divide by zero encountered in scalar divide\n",
            "  return np.sqrt(eigvals[0]/eigvals[-1])\n",
            "/Users/pupipatsingkhorn/miniconda3/envs/datascience/lib/python3.11/site-packages/statsmodels/regression/linear_model.py:1966: RuntimeWarning: divide by zero encountered in scalar divide\n",
            "  return np.sqrt(eigvals[0]/eigvals[-1])\n",
            "/Users/pupipatsingkhorn/miniconda3/envs/datascience/lib/python3.11/site-packages/statsmodels/regression/linear_model.py:1966: RuntimeWarning: divide by zero encountered in scalar divide\n",
            "  return np.sqrt(eigvals[0]/eigvals[-1])\n",
            "/Users/pupipatsingkhorn/miniconda3/envs/datascience/lib/python3.11/site-packages/statsmodels/regression/linear_model.py:1966: RuntimeWarning: divide by zero encountered in scalar divide\n",
            "  return np.sqrt(eigvals[0]/eigvals[-1])\n",
            "/Users/pupipatsingkhorn/miniconda3/envs/datascience/lib/python3.11/site-packages/statsmodels/regression/linear_model.py:1966: RuntimeWarning: divide by zero encountered in scalar divide\n",
            "  return np.sqrt(eigvals[0]/eigvals[-1])\n",
            "/Users/pupipatsingkhorn/miniconda3/envs/datascience/lib/python3.11/site-packages/statsmodels/regression/linear_model.py:1966: RuntimeWarning: divide by zero encountered in scalar divide\n",
            "  return np.sqrt(eigvals[0]/eigvals[-1])\n",
            "/Users/pupipatsingkhorn/miniconda3/envs/datascience/lib/python3.11/site-packages/statsmodels/regression/linear_model.py:1966: RuntimeWarning: divide by zero encountered in scalar divide\n",
            "  return np.sqrt(eigvals[0]/eigvals[-1])\n",
            "/Users/pupipatsingkhorn/miniconda3/envs/datascience/lib/python3.11/site-packages/statsmodels/regression/linear_model.py:1966: RuntimeWarning: divide by zero encountered in scalar divide\n",
            "  return np.sqrt(eigvals[0]/eigvals[-1])\n",
            "/Users/pupipatsingkhorn/miniconda3/envs/datascience/lib/python3.11/site-packages/statsmodels/regression/linear_model.py:1966: RuntimeWarning: divide by zero encountered in scalar divide\n",
            "  return np.sqrt(eigvals[0]/eigvals[-1])\n",
            "/Users/pupipatsingkhorn/miniconda3/envs/datascience/lib/python3.11/site-packages/statsmodels/regression/linear_model.py:1966: RuntimeWarning: divide by zero encountered in scalar divide\n",
            "  return np.sqrt(eigvals[0]/eigvals[-1])\n",
            "/Users/pupipatsingkhorn/miniconda3/envs/datascience/lib/python3.11/site-packages/statsmodels/regression/linear_model.py:1966: RuntimeWarning: divide by zero encountered in scalar divide\n",
            "  return np.sqrt(eigvals[0]/eigvals[-1])\n",
            "/Users/pupipatsingkhorn/miniconda3/envs/datascience/lib/python3.11/site-packages/statsmodels/regression/linear_model.py:1966: RuntimeWarning: divide by zero encountered in scalar divide\n",
            "  return np.sqrt(eigvals[0]/eigvals[-1])\n",
            "/Users/pupipatsingkhorn/miniconda3/envs/datascience/lib/python3.11/site-packages/statsmodels/regression/linear_model.py:1966: RuntimeWarning: divide by zero encountered in scalar divide\n",
            "  return np.sqrt(eigvals[0]/eigvals[-1])\n",
            "/Users/pupipatsingkhorn/miniconda3/envs/datascience/lib/python3.11/site-packages/statsmodels/regression/linear_model.py:1966: RuntimeWarning: divide by zero encountered in scalar divide\n",
            "  return np.sqrt(eigvals[0]/eigvals[-1])\n",
            "/Users/pupipatsingkhorn/miniconda3/envs/datascience/lib/python3.11/site-packages/statsmodels/regression/linear_model.py:1966: RuntimeWarning: divide by zero encountered in scalar divide\n",
            "  return np.sqrt(eigvals[0]/eigvals[-1])\n",
            "/Users/pupipatsingkhorn/miniconda3/envs/datascience/lib/python3.11/site-packages/statsmodels/regression/linear_model.py:1966: RuntimeWarning: divide by zero encountered in scalar divide\n",
            "  return np.sqrt(eigvals[0]/eigvals[-1])\n",
            "/Users/pupipatsingkhorn/miniconda3/envs/datascience/lib/python3.11/site-packages/statsmodels/regression/linear_model.py:1966: RuntimeWarning: divide by zero encountered in scalar divide\n",
            "  return np.sqrt(eigvals[0]/eigvals[-1])\n",
            "/Users/pupipatsingkhorn/miniconda3/envs/datascience/lib/python3.11/site-packages/statsmodels/regression/linear_model.py:1966: RuntimeWarning: divide by zero encountered in scalar divide\n",
            "  return np.sqrt(eigvals[0]/eigvals[-1])\n",
            "/Users/pupipatsingkhorn/miniconda3/envs/datascience/lib/python3.11/site-packages/statsmodels/regression/linear_model.py:1966: RuntimeWarning: divide by zero encountered in scalar divide\n",
            "  return np.sqrt(eigvals[0]/eigvals[-1])\n",
            "/Users/pupipatsingkhorn/miniconda3/envs/datascience/lib/python3.11/site-packages/statsmodels/regression/linear_model.py:1966: RuntimeWarning: divide by zero encountered in scalar divide\n",
            "  return np.sqrt(eigvals[0]/eigvals[-1])\n",
            "/Users/pupipatsingkhorn/miniconda3/envs/datascience/lib/python3.11/site-packages/statsmodels/regression/linear_model.py:1966: RuntimeWarning: divide by zero encountered in scalar divide\n",
            "  return np.sqrt(eigvals[0]/eigvals[-1])\n",
            "/Users/pupipatsingkhorn/miniconda3/envs/datascience/lib/python3.11/site-packages/statsmodels/regression/linear_model.py:1966: RuntimeWarning: divide by zero encountered in scalar divide\n",
            "  return np.sqrt(eigvals[0]/eigvals[-1])\n",
            "/Users/pupipatsingkhorn/miniconda3/envs/datascience/lib/python3.11/site-packages/statsmodels/regression/linear_model.py:1966: RuntimeWarning: divide by zero encountered in scalar divide\n",
            "  return np.sqrt(eigvals[0]/eigvals[-1])\n",
            "/Users/pupipatsingkhorn/miniconda3/envs/datascience/lib/python3.11/site-packages/statsmodels/regression/linear_model.py:1966: RuntimeWarning: divide by zero encountered in scalar divide\n",
            "  return np.sqrt(eigvals[0]/eigvals[-1])\n",
            "/Users/pupipatsingkhorn/miniconda3/envs/datascience/lib/python3.11/site-packages/statsmodels/regression/linear_model.py:1966: RuntimeWarning: divide by zero encountered in scalar divide\n",
            "  return np.sqrt(eigvals[0]/eigvals[-1])\n",
            "/Users/pupipatsingkhorn/miniconda3/envs/datascience/lib/python3.11/site-packages/statsmodels/regression/linear_model.py:1966: RuntimeWarning: divide by zero encountered in scalar divide\n",
            "  return np.sqrt(eigvals[0]/eigvals[-1])\n",
            "/Users/pupipatsingkhorn/miniconda3/envs/datascience/lib/python3.11/site-packages/statsmodels/regression/linear_model.py:1966: RuntimeWarning: divide by zero encountered in scalar divide\n",
            "  return np.sqrt(eigvals[0]/eigvals[-1])\n",
            "/Users/pupipatsingkhorn/miniconda3/envs/datascience/lib/python3.11/site-packages/statsmodels/regression/linear_model.py:1966: RuntimeWarning: divide by zero encountered in scalar divide\n",
            "  return np.sqrt(eigvals[0]/eigvals[-1])\n",
            "/Users/pupipatsingkhorn/miniconda3/envs/datascience/lib/python3.11/site-packages/statsmodels/regression/linear_model.py:1966: RuntimeWarning: divide by zero encountered in scalar divide\n",
            "  return np.sqrt(eigvals[0]/eigvals[-1])\n",
            "/Users/pupipatsingkhorn/miniconda3/envs/datascience/lib/python3.11/site-packages/statsmodels/regression/linear_model.py:1966: RuntimeWarning: divide by zero encountered in scalar divide\n",
            "  return np.sqrt(eigvals[0]/eigvals[-1])\n",
            "/Users/pupipatsingkhorn/miniconda3/envs/datascience/lib/python3.11/site-packages/statsmodels/regression/linear_model.py:1966: RuntimeWarning: divide by zero encountered in scalar divide\n",
            "  return np.sqrt(eigvals[0]/eigvals[-1])\n",
            "/Users/pupipatsingkhorn/miniconda3/envs/datascience/lib/python3.11/site-packages/statsmodels/regression/linear_model.py:1966: RuntimeWarning: divide by zero encountered in scalar divide\n",
            "  return np.sqrt(eigvals[0]/eigvals[-1])\n",
            "/Users/pupipatsingkhorn/miniconda3/envs/datascience/lib/python3.11/site-packages/statsmodels/regression/linear_model.py:1966: RuntimeWarning: divide by zero encountered in scalar divide\n",
            "  return np.sqrt(eigvals[0]/eigvals[-1])\n",
            "/Users/pupipatsingkhorn/miniconda3/envs/datascience/lib/python3.11/site-packages/statsmodels/regression/linear_model.py:1966: RuntimeWarning: divide by zero encountered in scalar divide\n",
            "  return np.sqrt(eigvals[0]/eigvals[-1])\n",
            "/Users/pupipatsingkhorn/miniconda3/envs/datascience/lib/python3.11/site-packages/statsmodels/regression/linear_model.py:1966: RuntimeWarning: divide by zero encountered in scalar divide\n",
            "  return np.sqrt(eigvals[0]/eigvals[-1])\n",
            "/Users/pupipatsingkhorn/miniconda3/envs/datascience/lib/python3.11/site-packages/statsmodels/regression/linear_model.py:1966: RuntimeWarning: divide by zero encountered in scalar divide\n",
            "  return np.sqrt(eigvals[0]/eigvals[-1])\n",
            "/Users/pupipatsingkhorn/miniconda3/envs/datascience/lib/python3.11/site-packages/statsmodels/regression/linear_model.py:1966: RuntimeWarning: divide by zero encountered in scalar divide\n",
            "  return np.sqrt(eigvals[0]/eigvals[-1])\n",
            "/Users/pupipatsingkhorn/miniconda3/envs/datascience/lib/python3.11/site-packages/statsmodels/regression/linear_model.py:1966: RuntimeWarning: divide by zero encountered in scalar divide\n",
            "  return np.sqrt(eigvals[0]/eigvals[-1])\n",
            "/Users/pupipatsingkhorn/miniconda3/envs/datascience/lib/python3.11/site-packages/statsmodels/regression/linear_model.py:1966: RuntimeWarning: divide by zero encountered in scalar divide\n",
            "  return np.sqrt(eigvals[0]/eigvals[-1])\n",
            "/Users/pupipatsingkhorn/miniconda3/envs/datascience/lib/python3.11/site-packages/statsmodels/regression/linear_model.py:1966: RuntimeWarning: divide by zero encountered in scalar divide\n",
            "  return np.sqrt(eigvals[0]/eigvals[-1])\n",
            "/Users/pupipatsingkhorn/miniconda3/envs/datascience/lib/python3.11/site-packages/statsmodels/regression/linear_model.py:1966: RuntimeWarning: divide by zero encountered in scalar divide\n",
            "  return np.sqrt(eigvals[0]/eigvals[-1])\n",
            "/Users/pupipatsingkhorn/miniconda3/envs/datascience/lib/python3.11/site-packages/statsmodels/regression/linear_model.py:1966: RuntimeWarning: divide by zero encountered in scalar divide\n",
            "  return np.sqrt(eigvals[0]/eigvals[-1])\n",
            "/Users/pupipatsingkhorn/miniconda3/envs/datascience/lib/python3.11/site-packages/statsmodels/regression/linear_model.py:1966: RuntimeWarning: divide by zero encountered in scalar divide\n",
            "  return np.sqrt(eigvals[0]/eigvals[-1])\n",
            "/Users/pupipatsingkhorn/miniconda3/envs/datascience/lib/python3.11/site-packages/statsmodels/regression/linear_model.py:1966: RuntimeWarning: divide by zero encountered in scalar divide\n",
            "  return np.sqrt(eigvals[0]/eigvals[-1])\n",
            "/Users/pupipatsingkhorn/miniconda3/envs/datascience/lib/python3.11/site-packages/statsmodels/regression/linear_model.py:1966: RuntimeWarning: divide by zero encountered in scalar divide\n",
            "  return np.sqrt(eigvals[0]/eigvals[-1])\n",
            "/Users/pupipatsingkhorn/miniconda3/envs/datascience/lib/python3.11/site-packages/statsmodels/regression/linear_model.py:1966: RuntimeWarning: divide by zero encountered in scalar divide\n",
            "  return np.sqrt(eigvals[0]/eigvals[-1])\n",
            "/Users/pupipatsingkhorn/miniconda3/envs/datascience/lib/python3.11/site-packages/statsmodels/regression/linear_model.py:1966: RuntimeWarning: divide by zero encountered in scalar divide\n",
            "  return np.sqrt(eigvals[0]/eigvals[-1])\n",
            "/Users/pupipatsingkhorn/miniconda3/envs/datascience/lib/python3.11/site-packages/statsmodels/regression/linear_model.py:1966: RuntimeWarning: divide by zero encountered in scalar divide\n",
            "  return np.sqrt(eigvals[0]/eigvals[-1])\n",
            "/Users/pupipatsingkhorn/miniconda3/envs/datascience/lib/python3.11/site-packages/statsmodels/regression/linear_model.py:1966: RuntimeWarning: divide by zero encountered in scalar divide\n",
            "  return np.sqrt(eigvals[0]/eigvals[-1])\n",
            "/Users/pupipatsingkhorn/miniconda3/envs/datascience/lib/python3.11/site-packages/statsmodels/regression/linear_model.py:1966: RuntimeWarning: divide by zero encountered in scalar divide\n",
            "  return np.sqrt(eigvals[0]/eigvals[-1])\n",
            "/Users/pupipatsingkhorn/miniconda3/envs/datascience/lib/python3.11/site-packages/statsmodels/regression/linear_model.py:1966: RuntimeWarning: divide by zero encountered in scalar divide\n",
            "  return np.sqrt(eigvals[0]/eigvals[-1])\n",
            "/Users/pupipatsingkhorn/miniconda3/envs/datascience/lib/python3.11/site-packages/statsmodels/regression/linear_model.py:1966: RuntimeWarning: divide by zero encountered in scalar divide\n",
            "  return np.sqrt(eigvals[0]/eigvals[-1])\n",
            "/Users/pupipatsingkhorn/miniconda3/envs/datascience/lib/python3.11/site-packages/statsmodels/regression/linear_model.py:1966: RuntimeWarning: divide by zero encountered in scalar divide\n",
            "  return np.sqrt(eigvals[0]/eigvals[-1])\n",
            "/Users/pupipatsingkhorn/miniconda3/envs/datascience/lib/python3.11/site-packages/statsmodels/regression/linear_model.py:1966: RuntimeWarning: divide by zero encountered in scalar divide\n",
            "  return np.sqrt(eigvals[0]/eigvals[-1])\n",
            "/Users/pupipatsingkhorn/miniconda3/envs/datascience/lib/python3.11/site-packages/statsmodels/regression/linear_model.py:1966: RuntimeWarning: divide by zero encountered in scalar divide\n",
            "  return np.sqrt(eigvals[0]/eigvals[-1])\n",
            "/Users/pupipatsingkhorn/miniconda3/envs/datascience/lib/python3.11/site-packages/statsmodels/regression/linear_model.py:1966: RuntimeWarning: divide by zero encountered in scalar divide\n",
            "  return np.sqrt(eigvals[0]/eigvals[-1])\n",
            "/Users/pupipatsingkhorn/miniconda3/envs/datascience/lib/python3.11/site-packages/statsmodels/regression/linear_model.py:1966: RuntimeWarning: divide by zero encountered in scalar divide\n",
            "  return np.sqrt(eigvals[0]/eigvals[-1])\n",
            "/Users/pupipatsingkhorn/miniconda3/envs/datascience/lib/python3.11/site-packages/statsmodels/regression/linear_model.py:1966: RuntimeWarning: divide by zero encountered in scalar divide\n",
            "  return np.sqrt(eigvals[0]/eigvals[-1])\n",
            "/Users/pupipatsingkhorn/miniconda3/envs/datascience/lib/python3.11/site-packages/statsmodels/regression/linear_model.py:1966: RuntimeWarning: divide by zero encountered in scalar divide\n",
            "  return np.sqrt(eigvals[0]/eigvals[-1])\n",
            "/Users/pupipatsingkhorn/miniconda3/envs/datascience/lib/python3.11/site-packages/statsmodels/regression/linear_model.py:1966: RuntimeWarning: divide by zero encountered in scalar divide\n",
            "  return np.sqrt(eigvals[0]/eigvals[-1])\n",
            "/Users/pupipatsingkhorn/miniconda3/envs/datascience/lib/python3.11/site-packages/statsmodels/regression/linear_model.py:1966: RuntimeWarning: divide by zero encountered in scalar divide\n",
            "  return np.sqrt(eigvals[0]/eigvals[-1])\n",
            "/Users/pupipatsingkhorn/miniconda3/envs/datascience/lib/python3.11/site-packages/statsmodels/regression/linear_model.py:1966: RuntimeWarning: divide by zero encountered in scalar divide\n",
            "  return np.sqrt(eigvals[0]/eigvals[-1])\n",
            "/Users/pupipatsingkhorn/miniconda3/envs/datascience/lib/python3.11/site-packages/statsmodels/regression/linear_model.py:1966: RuntimeWarning: divide by zero encountered in scalar divide\n",
            "  return np.sqrt(eigvals[0]/eigvals[-1])\n",
            "/Users/pupipatsingkhorn/miniconda3/envs/datascience/lib/python3.11/site-packages/statsmodels/regression/linear_model.py:1966: RuntimeWarning: divide by zero encountered in scalar divide\n",
            "  return np.sqrt(eigvals[0]/eigvals[-1])\n",
            "/Users/pupipatsingkhorn/miniconda3/envs/datascience/lib/python3.11/site-packages/statsmodels/regression/linear_model.py:1966: RuntimeWarning: divide by zero encountered in scalar divide\n",
            "  return np.sqrt(eigvals[0]/eigvals[-1])\n",
            "/Users/pupipatsingkhorn/miniconda3/envs/datascience/lib/python3.11/site-packages/statsmodels/regression/linear_model.py:1966: RuntimeWarning: divide by zero encountered in scalar divide\n",
            "  return np.sqrt(eigvals[0]/eigvals[-1])\n",
            "/Users/pupipatsingkhorn/miniconda3/envs/datascience/lib/python3.11/site-packages/statsmodels/regression/linear_model.py:1966: RuntimeWarning: divide by zero encountered in scalar divide\n",
            "  return np.sqrt(eigvals[0]/eigvals[-1])\n",
            "/Users/pupipatsingkhorn/miniconda3/envs/datascience/lib/python3.11/site-packages/statsmodels/regression/linear_model.py:1966: RuntimeWarning: divide by zero encountered in scalar divide\n",
            "  return np.sqrt(eigvals[0]/eigvals[-1])\n"
          ]
        }
      ],
      "source": [
        "refute_placebo = model.refute_estimate(\n",
        "    estimand=estimand,\n",
        "    estimate=estimate_backdoor,\n",
        "    method_name=\"placebo_treatment_refuter\")"
      ]
    },
    {
      "cell_type": "code",
      "execution_count": 22,
      "metadata": {
        "colab": {
          "base_uri": "https://localhost:8080/"
        },
        "id": "2vhF-KK4rlmU",
        "outputId": "d41cc6ee-a852-404f-ed3d-9034ca87e210"
      },
      "outputs": [
        {
          "name": "stdout",
          "output_type": "stream",
          "text": [
            "Refute: Use a Placebo Treatment\n",
            "Estimated effect:-0.3947006164963863\n",
            "New effect:0.0\n",
            "p value:1.0\n",
            "\n"
          ]
        }
      ],
      "source": [
        "print(refute_placebo)"
      ]
    },
    {
      "cell_type": "code",
      "execution_count": 23,
      "metadata": {
        "colab": {
          "base_uri": "https://localhost:8080/"
        },
        "id": "S3q2loscq7_b",
        "outputId": "d657a4e5-06f4-41e5-972a-2d19ff85e76b"
      },
      "outputs": [
        {
          "name": "stdout",
          "output_type": "stream",
          "text": [
            "Estimate of causal effect via IV: -0.3912598668999661\n"
          ]
        }
      ],
      "source": [
        "estimate_iv = model.estimate_effect(\n",
        "    identified_estimand=estimand,\n",
        "    method_name='iv.instrumental_variable')\n",
        "\n",
        "print(f'Estimate of causal effect via IV: {estimate_iv.value}')"
      ]
    },
    {
      "cell_type": "code",
      "execution_count": 24,
      "metadata": {
        "colab": {
          "base_uri": "https://localhost:8080/"
        },
        "id": "rnmWOdCjq9YB",
        "outputId": "4c241f37-f39d-4cc9-8945-165bfdd8c67c"
      },
      "outputs": [
        {
          "name": "stdout",
          "output_type": "stream",
          "text": [
            "Estimate of causal effect (DML): -0.3579060638957235\n"
          ]
        },
        {
          "name": "stderr",
          "output_type": "stream",
          "text": [
            "A column-vector y was passed when a 1d array was expected. Please change the shape of y to (n_samples, ), for example using ravel().\n",
            "A column-vector y was passed when a 1d array was expected. Please change the shape of y to (n_samples, ), for example using ravel().\n"
          ]
        }
      ],
      "source": [
        "from sklearn.linear_model import LassoCV\n",
        "from sklearn.ensemble import GradientBoostingRegressor\n",
        "\n",
        "estimate = model.estimate_effect(\n",
        "    identified_estimand=estimand,\n",
        "    method_name='backdoor.econml.dml.DML',\n",
        "    method_params={\n",
        "        'init_params': {\n",
        "            'model_y': GradientBoostingRegressor(),\n",
        "            'model_t': GradientBoostingRegressor(),\n",
        "            'model_final': LassoCV(fit_intercept=False),\n",
        "        },\n",
        "        'fit_params': {}}\n",
        ")\n",
        "\n",
        "print(f'Estimate of causal effect (DML): {estimate.value}')"
      ]
    }
  ],
  "metadata": {
    "colab": {
      "provenance": []
    },
    "kernelspec": {
      "display_name": "datascience",
      "language": "python",
      "name": "python3"
    },
    "language_info": {
      "codemirror_mode": {
        "name": "ipython",
        "version": 3
      },
      "file_extension": ".py",
      "mimetype": "text/x-python",
      "name": "python",
      "nbconvert_exporter": "python",
      "pygments_lexer": "ipython3",
      "version": "3.11.11"
    }
  },
  "nbformat": 4,
  "nbformat_minor": 0
}
