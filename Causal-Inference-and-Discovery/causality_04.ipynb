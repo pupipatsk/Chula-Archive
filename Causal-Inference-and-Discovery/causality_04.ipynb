{
  "cells": [
    {
      "cell_type": "markdown",
      "metadata": {},
      "source": [
        "$$Pupipat\\ Singkhorn, 6532142421$$"
      ]
    },
    {
      "cell_type": "code",
      "execution_count": 1,
      "metadata": {
        "colab": {
          "base_uri": "https://localhost:8080/"
        },
        "id": "IDvhRF2ppccT",
        "outputId": "a8a33bfd-a343-489b-bebe-96b200522b52"
      },
      "outputs": [],
      "source": [
        "# !pip install dowhy gcastle"
      ]
    },
    {
      "cell_type": "code",
      "execution_count": 2,
      "metadata": {
        "id": "_TP1F3Y8p4vI"
      },
      "outputs": [],
      "source": [
        "import numpy as np\n",
        "np.random.seed(42)\n",
        "import pandas as pd\n",
        "import networkx as nx\n",
        "import statsmodels.api as sm\n",
        "from dowhy import gcm\n",
        "from dowhy import CausalModel\n",
        "import warnings\n",
        "warnings.filterwarnings(\"ignore\")"
      ]
    },
    {
      "cell_type": "code",
      "execution_count": 3,
      "metadata": {
        "id": "ktQ3jqWwsEaz"
      },
      "outputs": [],
      "source": [
        "# Sample Data\n",
        "S = np.random.normal(loc=0.5, scale=1, size=2000)\n",
        "X = 2*S + np.random.normal(loc=0, scale=0.5, size=2000)\n",
        "Y = 3*S + 1.5*X + np.random.normal(loc=1,scale=0.5, size=2000)"
      ]
    },
    {
      "cell_type": "markdown",
      "metadata": {
        "id": "nl4-o7flvTvd"
      },
      "source": [
        "# Interventional calculation"
      ]
    },
    {
      "cell_type": "code",
      "execution_count": 4,
      "metadata": {
        "colab": {
          "base_uri": "https://localhost:8080/",
          "height": 473
        },
        "id": "3eGWyiF_sd9W",
        "outputId": "de744f11-f2f5-4d86-99c7-5ee61e3c717e"
      },
      "outputs": [
        {
          "data": {
            "text/html": [
              "<table class=\"simpletable\">\n",
              "<caption>OLS Regression Results</caption>\n",
              "<tr>\n",
              "  <th>Dep. Variable:</th>            <td>y</td>        <th>  R-squared:         </th> <td>   0.993</td> \n",
              "</tr>\n",
              "<tr>\n",
              "  <th>Model:</th>                   <td>OLS</td>       <th>  Adj. R-squared:    </th> <td>   0.993</td> \n",
              "</tr>\n",
              "<tr>\n",
              "  <th>Method:</th>             <td>Least Squares</td>  <th>  F-statistic:       </th> <td>1.424e+05</td>\n",
              "</tr>\n",
              "<tr>\n",
              "  <th>Date:</th>             <td>Thu, 20 Feb 2025</td> <th>  Prob (F-statistic):</th>  <td>  0.00</td>  \n",
              "</tr>\n",
              "<tr>\n",
              "  <th>Time:</th>                 <td>13:07:02</td>     <th>  Log-Likelihood:    </th> <td> -1449.1</td> \n",
              "</tr>\n",
              "<tr>\n",
              "  <th>No. Observations:</th>      <td>  2000</td>      <th>  AIC:               </th> <td>   2904.</td> \n",
              "</tr>\n",
              "<tr>\n",
              "  <th>Df Residuals:</th>          <td>  1997</td>      <th>  BIC:               </th> <td>   2921.</td> \n",
              "</tr>\n",
              "<tr>\n",
              "  <th>Df Model:</th>              <td>     2</td>      <th>                     </th>     <td> </td>    \n",
              "</tr>\n",
              "<tr>\n",
              "  <th>Covariance Type:</th>      <td>nonrobust</td>    <th>                     </th>     <td> </td>    \n",
              "</tr>\n",
              "</table>\n",
              "<table class=\"simpletable\">\n",
              "<tr>\n",
              "    <td></td>       <th>coef</th>     <th>std err</th>      <th>t</th>      <th>P>|t|</th>  <th>[0.025</th>    <th>0.975]</th>  \n",
              "</tr>\n",
              "<tr>\n",
              "  <th>const</th> <td>    0.9770</td> <td>    0.013</td> <td>   76.558</td> <td> 0.000</td> <td>    0.952</td> <td>    1.002</td>\n",
              "</tr>\n",
              "<tr>\n",
              "  <th>X</th>     <td>    1.5356</td> <td>    0.022</td> <td>   69.045</td> <td> 0.000</td> <td>    1.492</td> <td>    1.579</td>\n",
              "</tr>\n",
              "<tr>\n",
              "  <th>S</th>     <td>    2.9272</td> <td>    0.046</td> <td>   64.052</td> <td> 0.000</td> <td>    2.838</td> <td>    3.017</td>\n",
              "</tr>\n",
              "</table>\n",
              "<table class=\"simpletable\">\n",
              "<tr>\n",
              "  <th>Omnibus:</th>       <td> 1.385</td> <th>  Durbin-Watson:     </th> <td>   2.061</td>\n",
              "</tr>\n",
              "<tr>\n",
              "  <th>Prob(Omnibus):</th> <td> 0.500</td> <th>  Jarque-Bera (JB):  </th> <td>   1.303</td>\n",
              "</tr>\n",
              "<tr>\n",
              "  <th>Skew:</th>          <td>-0.036</td> <th>  Prob(JB):          </th> <td>   0.521</td>\n",
              "</tr>\n",
              "<tr>\n",
              "  <th>Kurtosis:</th>      <td> 3.102</td> <th>  Cond. No.          </th> <td>    11.8</td>\n",
              "</tr>\n",
              "</table><br/><br/>Notes:<br/>[1] Standard Errors assume that the covariance matrix of the errors is correctly specified."
            ],
            "text/latex": [
              "\\begin{center}\n",
              "\\begin{tabular}{lclc}\n",
              "\\toprule\n",
              "\\textbf{Dep. Variable:}    &        y         & \\textbf{  R-squared:         } &     0.993   \\\\\n",
              "\\textbf{Model:}            &       OLS        & \\textbf{  Adj. R-squared:    } &     0.993   \\\\\n",
              "\\textbf{Method:}           &  Least Squares   & \\textbf{  F-statistic:       } & 1.424e+05   \\\\\n",
              "\\textbf{Date:}             & Thu, 20 Feb 2025 & \\textbf{  Prob (F-statistic):} &     0.00    \\\\\n",
              "\\textbf{Time:}             &     13:07:02     & \\textbf{  Log-Likelihood:    } &   -1449.1   \\\\\n",
              "\\textbf{No. Observations:} &        2000      & \\textbf{  AIC:               } &     2904.   \\\\\n",
              "\\textbf{Df Residuals:}     &        1997      & \\textbf{  BIC:               } &     2921.   \\\\\n",
              "\\textbf{Df Model:}         &           2      & \\textbf{                     } &             \\\\\n",
              "\\textbf{Covariance Type:}  &    nonrobust     & \\textbf{                     } &             \\\\\n",
              "\\bottomrule\n",
              "\\end{tabular}\n",
              "\\begin{tabular}{lcccccc}\n",
              "               & \\textbf{coef} & \\textbf{std err} & \\textbf{t} & \\textbf{P$> |$t$|$} & \\textbf{[0.025} & \\textbf{0.975]}  \\\\\n",
              "\\midrule\n",
              "\\textbf{const} &       0.9770  &        0.013     &    76.558  &         0.000        &        0.952    &        1.002     \\\\\n",
              "\\textbf{X}     &       1.5356  &        0.022     &    69.045  &         0.000        &        1.492    &        1.579     \\\\\n",
              "\\textbf{S}     &       2.9272  &        0.046     &    64.052  &         0.000        &        2.838    &        3.017     \\\\\n",
              "\\bottomrule\n",
              "\\end{tabular}\n",
              "\\begin{tabular}{lclc}\n",
              "\\textbf{Omnibus:}       &  1.385 & \\textbf{  Durbin-Watson:     } &    2.061  \\\\\n",
              "\\textbf{Prob(Omnibus):} &  0.500 & \\textbf{  Jarque-Bera (JB):  } &    1.303  \\\\\n",
              "\\textbf{Skew:}          & -0.036 & \\textbf{  Prob(JB):          } &    0.521  \\\\\n",
              "\\textbf{Kurtosis:}      &  3.102 & \\textbf{  Cond. No.          } &     11.8  \\\\\n",
              "\\bottomrule\n",
              "\\end{tabular}\n",
              "%\\caption{OLS Regression Results}\n",
              "\\end{center}\n",
              "\n",
              "Notes: \\newline\n",
              " [1] Standard Errors assume that the covariance matrix of the errors is correctly specified."
            ],
            "text/plain": [
              "<class 'statsmodels.iolib.summary.Summary'>\n",
              "\"\"\"\n",
              "                            OLS Regression Results                            \n",
              "==============================================================================\n",
              "Dep. Variable:                      y   R-squared:                       0.993\n",
              "Model:                            OLS   Adj. R-squared:                  0.993\n",
              "Method:                 Least Squares   F-statistic:                 1.424e+05\n",
              "Date:                Thu, 20 Feb 2025   Prob (F-statistic):               0.00\n",
              "Time:                        13:07:02   Log-Likelihood:                -1449.1\n",
              "No. Observations:                2000   AIC:                             2904.\n",
              "Df Residuals:                    1997   BIC:                             2921.\n",
              "Df Model:                           2                                         \n",
              "Covariance Type:            nonrobust                                         \n",
              "==============================================================================\n",
              "                 coef    std err          t      P>|t|      [0.025      0.975]\n",
              "------------------------------------------------------------------------------\n",
              "const          0.9770      0.013     76.558      0.000       0.952       1.002\n",
              "X              1.5356      0.022     69.045      0.000       1.492       1.579\n",
              "S              2.9272      0.046     64.052      0.000       2.838       3.017\n",
              "==============================================================================\n",
              "Omnibus:                        1.385   Durbin-Watson:                   2.061\n",
              "Prob(Omnibus):                  0.500   Jarque-Bera (JB):                1.303\n",
              "Skew:                          -0.036   Prob(JB):                        0.521\n",
              "Kurtosis:                       3.102   Cond. No.                         11.8\n",
              "==============================================================================\n",
              "\n",
              "Notes:\n",
              "[1] Standard Errors assume that the covariance matrix of the errors is correctly specified.\n",
              "\"\"\""
            ]
          },
          "execution_count": 4,
          "metadata": {},
          "output_type": "execute_result"
        }
      ],
      "source": [
        "# Estimate causal effect using back-door criterion\n",
        "# S -> X -> Y\n",
        "#  \\-------^\n",
        "\n",
        "data = pd.DataFrame({'X': X, 'S': S})\n",
        "data = sm.add_constant(data, prepend=True)\n",
        "model = sm.OLS(Y, data) # Ordinary Linear Regression\n",
        "results = model.fit()\n",
        "results.summary()"
      ]
    },
    {
      "cell_type": "code",
      "execution_count": 5,
      "metadata": {
        "colab": {
          "base_uri": "https://localhost:8080/"
        },
        "id": "T9ymRXyhtQOb",
        "outputId": "9abe95e7-a1fd-4869-cc8e-62f3be397df6"
      },
      "outputs": [
        {
          "data": {
            "image/png": "[encoded data removed]",
            "text/latex": [
              "$\\displaystyle 4.10815744946464$"
            ],
            "text/plain": [
              "4.1081574494646445"
            ]
          },
          "execution_count": 5,
          "metadata": {},
          "output_type": "execute_result"
        }
      ],
      "source": [
        "# Calculate P(Y|do(X=1))\n",
        "\n",
        "X1 = np.array([1.0]*len(X))\n",
        "Y1 = results.params['X']*X1 + results.params['S']*S + results.params['const']\n",
        "np.average(Y1)"
      ]
    },
    {
      "cell_type": "code",
      "execution_count": 6,
      "metadata": {
        "colab": {
          "base_uri": "https://localhost:8080/"
        },
        "id": "6_NMsIaqph9a",
        "outputId": "cba3f3c2-64e9-4543-bfcc-8221c8af7f50"
      },
      "outputs": [
        {
          "name": "stderr",
          "output_type": "stream",
          "text": [
            "Fitting causal mechanism of node Y: 100%|██████████| 3/3 [00:00<00:00, 333.96it/s]"
          ]
        },
        {
          "name": "stdout",
          "output_type": "stream",
          "text": [
            "          S  X         Y\n",
            "0  0.846448  1  5.320758\n",
            "1  0.697911  1  4.723199\n",
            "2 -1.112716  1 -0.973577\n",
            "3  1.062969  1  4.052086\n",
            "4  2.139965  1  8.552281\n",
            "Average Y under do(X=1): 4.1934\n"
          ]
        },
        {
          "name": "stderr",
          "output_type": "stream",
          "text": [
            "\n"
          ]
        }
      ],
      "source": [
        "# Calculating Intervention using DoWhy GCM Model\n",
        "# https://www.pywhy.org/dowhy/v0.12/user_guide/causal_tasks/what_if/interventions.html\n",
        "# Hint: you can also use gcm.auto.assign_causal_mechanisms (see: https://www.pywhy.org/dowhy/v0.10.1/user_guide/modeling_gcm/draw_samples.html)\n",
        "\n",
        "# PROBLEM 1 IMPLEMENT INTERVENTION USING DoWHY GCM MODEL\n",
        "# TODO: [ YOUR CODE HERE ]\n",
        "\n",
        "data_gcm = pd.DataFrame({\"X\": X, \"S\": S, \"Y\": Y})\n",
        "\n",
        "# Define the causal model structure (S -> X -> Y and S -> Y)\n",
        "causal_model = gcm.ProbabilisticCausalModel(\n",
        "    nx.DiGraph([(\"S\", \"X\"),\n",
        "                (\"X\", \"Y\"),\n",
        "                (\"S\", \"Y\")])\n",
        ")\n",
        "gcm.auto.assign_causal_mechanisms(causal_model, data_gcm)\n",
        "gcm.fit(causal_model, data_gcm)\n",
        "\n",
        "# Perform intervention: set X=1 and generate interventional data\n",
        "samples = gcm.interventional_samples(causal_model,\n",
        "                                     {'X': lambda x: 1},\n",
        "                                     num_samples_to_draw=1000)\n",
        "print(samples.head())\n",
        "\n",
        "# Calculate the average Y under intervention\n",
        "average_y_intervention = samples[\"Y\"].mean()\n",
        "print(f\"Average Y under do(X=1): {average_y_intervention:.4f}\")"
      ]
    },
    {
      "cell_type": "markdown",
      "metadata": {
        "id": "sOrsoCgJvWsR"
      },
      "source": [
        "# Counterfactual calculation"
      ]
    },
    {
      "cell_type": "code",
      "execution_count": 7,
      "metadata": {
        "colab": {
          "base_uri": "https://localhost:8080/",
          "height": 98
        },
        "id": "b0sh_5XnupRM",
        "outputId": "ef6ee221-5dbf-4eb0-fae2-d68cc8fac402"
      },
      "outputs": [
        {
          "name": "stderr",
          "output_type": "stream",
          "text": [
            "Fitting causal mechanism of node S: 100%|██████████| 3/3 [00:00<00:00, 827.12it/s]\n"
          ]
        },
        {
          "data": {
            "text/html": [
              "<div>\n",
              "<style scoped>\n",
              "    .dataframe tbody tr th:only-of-type {\n",
              "        vertical-align: middle;\n",
              "    }\n",
              "\n",
              "    .dataframe tbody tr th {\n",
              "        vertical-align: top;\n",
              "    }\n",
              "\n",
              "    .dataframe thead th {\n",
              "        text-align: right;\n",
              "    }\n",
              "</style>\n",
              "<table border=\"1\" class=\"dataframe\">\n",
              "  <thead>\n",
              "    <tr style=\"text-align: right;\">\n",
              "      <th></th>\n",
              "      <th>S</th>\n",
              "      <th>X</th>\n",
              "      <th>Y</th>\n",
              "    </tr>\n",
              "  </thead>\n",
              "  <tbody>\n",
              "    <tr>\n",
              "      <th>0</th>\n",
              "      <td>0.5</td>\n",
              "      <td>1</td>\n",
              "      <td>3.535564</td>\n",
              "    </tr>\n",
              "  </tbody>\n",
              "</table>\n",
              "</div>"
            ],
            "text/plain": [
              "     S  X         Y\n",
              "0  0.5  1  3.535564"
            ]
          },
          "execution_count": 7,
          "metadata": {},
          "output_type": "execute_result"
        }
      ],
      "source": [
        "data_gcm2 = pd.DataFrame({'X': X, 'S': S, 'Y': Y})\n",
        "causal_model2 = gcm.InvertibleStructuralCausalModel(nx.DiGraph([('X', 'Y'), ('S', 'X'), ('S', 'Y')]))\n",
        "gcm.auto.assign_causal_mechanisms(causal_model2, data_gcm2)\n",
        "gcm.fit(causal_model2, data_gcm2)\n",
        "\n",
        "gcm.counterfactual_samples(\n",
        "    causal_model2,\n",
        "    {'X': lambda x: 1},\n",
        "    observed_data=pd.DataFrame(data=dict(X=[0], Y=[2], S=[0.5])))"
      ]
    },
    {
      "cell_type": "markdown",
      "metadata": {
        "id": "6kueaRTBwDnD"
      },
      "source": [
        "# Causal Discovery"
      ]
    },
    {
      "cell_type": "code",
      "execution_count": 8,
      "metadata": {
        "id": "xL9PFtiyvBld"
      },
      "outputs": [
        {
          "name": "stderr",
          "output_type": "stream",
          "text": [
            "2025-02-20 13:07:10,200 - /Users/pupipatsingkhorn/miniconda3/envs/datascience/lib/python3.11/site-packages/castle/backend/__init__.py[line:36] - INFO: You can use `os.environ['CASTLE_BACKEND'] = backend` to set the backend(`pytorch` or `mindspore`).\n",
            "2025-02-20 13:07:10,221 - /Users/pupipatsingkhorn/miniconda3/envs/datascience/lib/python3.11/site-packages/castle/algorithms/__init__.py[line:36] - INFO: You are using ``pytorch`` as the backend.\n"
          ]
        }
      ],
      "source": [
        "from castle.algorithms import PC, ICALiNGAM"
      ]
    },
    {
      "cell_type": "code",
      "execution_count": 9,
      "metadata": {
        "id": "Les_ql7kwN-a"
      },
      "outputs": [
        {
          "name": "stdout",
          "output_type": "stream",
          "text": [
            "Causal matrix from PC Algorithm:\n",
            " [[0 1 1]\n",
            " [1 0 1]\n",
            " [1 1 0]]\n"
          ]
        }
      ],
      "source": [
        "# Causal Discovery using PC Algorithm\n",
        "pc = PC()\n",
        "pc_dataset = np.vstack([X, Y, S]).T\n",
        "pc.learn(pc_dataset)\n",
        "print(\"Causal matrix from PC Algorithm:\\n\", pc.causal_matrix)"
      ]
    },
    {
      "cell_type": "code",
      "execution_count": null,
      "metadata": {
        "colab": {
          "base_uri": "https://localhost:8080/"
        },
        "id": "SQQM-MP9wosk",
        "outputId": "95aad64f-b4fc-4c56-9515-f29adef2e382"
      },
      "outputs": [],
      "source": [
        "# PROBLEM 2 - WHY IS THE CAUSAL METRIX ALMOST COMPLETE?\n",
        "# CAN YOU USE REFUTION TEST TO CHECK FOR CAUSALITY DIRECTION?\n",
        "# TODO: IMPLEMENT AND DISCUSS\n",
        "\n",
        "# Refutation Test for Causality Direction\n",
        "data_for_refute = pd.DataFrame({'X': X, 'S': S, 'Y': Y})\n",
        "model_refute = CausalModel(\n",
        "    data=data_for_refute,\n",
        "    treatment='X',\n",
        "    outcome='Y',\n",
        "    graph=\"digraph { S -> X; X -> Y; S -> Y; }\"\n",
        ")\n",
        "identified_estimand = model_refute.identify_effect()\n",
        "causal_estimate = model_refute.estimate_effect(identified_estimand,\n",
        "                                              method_name=\"backdoor.linear_regression\")\n",
        "refute_results = model_refute.refute_estimate(identified_estimand, causal_estimate, method_name=\"placebo_treatment_refuter\")\n",
        "\n",
        "print(\"Refutation Test Result:\\n\", refute_results) # write in markdown below"
      ]
    },
    {
      "cell_type": "markdown",
      "metadata": {},
      "source": [
        "**Discussion**:\n",
        "\n",
        "The causal matrix obtained from the PC Algorithm appears almost complete because the dataset includes strong linear dependencies among the variables \\(S\\), \\(X\\), and \\(Y\\). \n",
        "In this scenario, the PC Algorithm infers edges based on conditional independencies. Given that:\n",
        "\n",
        "- $(S \\rightarrow X)$\n",
        "- $(X \\rightarrow Y)$\n",
        "- $(S \\rightarrow Y)$\n",
        "\n",
        "The relationships between these variables are direct and robust.\\\n",
        "Consequently, the PC Algorithm identifies nearly all possible edges, rendering the causal matrix almost complete.\\\n",
        "Additionally, noise levels and the relatively small sample size can impact the identification of weaker or non-existent relationships, leading to an overly dense matrix.\n",
        "\n",
        "**Refutation Test for Causality Direction**:\n",
        "\n",
        "The refutation test using a placebo treatment returned the following results:\n",
        "\n",
        "\n",
        "Refutation Test Result:\n",
        "\n",
        "- `Refute: Use a Placebo Treatment`\\\n",
        "- `Estimated effect: 1.5355639494717588` (The original estimated causal effect of \\(X\\) on \\(Y\\) is approximately 1.5356.)\\\n",
        "- `New effect (Placebo): 0.0` (When the treatment is replaced with a placebo (a randomly generated variable), the estimated effect drops to 0.0.)\\\n",
        "- `p value: 1.0` (the null hypothesis (no causal relationship) cannot be rejected under the placebo scenario.)\n",
        "\n",
        "\n",
        "**Implications for Causality Direction:**\n",
        "\n",
        "- These results suggest that the initially observed causal relationship between \\(X\\) and \\(Y\\) is not spurious.\\\n",
        "- The drastic reduction in the estimated effect when using a placebo treatment supports the conclusion that \\(X\\) causally influences \\(Y\\).\\\n",
        "- Therefore, the directionality $(X \\rightarrow Y)$ is validated through this refutation test.\n",
        "\n",
        "**Conclusion:**\n",
        "\n",
        "- The near-completeness of the causal matrix is attributed to the strong, direct relationships among the variables and the effectiveness of the PC Algorithm in detecting these links.\n",
        "- The refutation test further confirms the correct direction of causality from \\(X\\) to \\(Y\\), adding robustness to the causal inference outcomes.\n"
      ]
    },
    {
      "cell_type": "code",
      "execution_count": 11,
      "metadata": {
        "id": "tlQPt8Bbw0xQ"
      },
      "outputs": [
        {
          "name": "stdout",
          "output_type": "stream",
          "text": [
            "Weight causal matrix from ICALiNGAM:\n",
            " [[0.    0.    1.006 0.   ]\n",
            " [0.    0.    0.999 0.   ]\n",
            " [0.    0.    0.    0.699]\n",
            " [0.    0.    0.    0.   ]]\n"
          ]
        }
      ],
      "source": [
        "N = 2000\n",
        "a = np.random.uniform(0, 1, N)\n",
        "b = np.random.uniform(3, 6, N)\n",
        "c = a + b + .1 * np.random.uniform(-2, 0, N)\n",
        "d = .7 * c + .1 * np.random.uniform(0, 1, N)\n",
        "lingam_dataset = np.vstack([a, b, c, d]).T\n",
        "\n",
        "lingam = ICALiNGAM(random_state=1)\n",
        "lingam.learn(lingam_dataset)\n",
        "\n",
        "print(\"Weight causal matrix from ICALiNGAM:\\n\", lingam.weight_causal_matrix)"
      ]
    }
  ],
  "metadata": {
    "colab": {
      "provenance": []
    },
    "kernelspec": {
      "display_name": "datascience",
      "language": "python",
      "name": "python3"
    },
    "language_info": {
      "codemirror_mode": {
        "name": "ipython",
        "version": 3
      },
      "file_extension": ".py",
      "mimetype": "text/x-python",
      "name": "python",
      "nbconvert_exporter": "python",
      "pygments_lexer": "ipython3",
      "version": "3.11.11"
    }
  },
  "nbformat": 4,
  "nbformat_minor": 0
}
